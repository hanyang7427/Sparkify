{
 "cells": [
  {
   "cell_type": "markdown",
   "metadata": {},
   "source": [
    "# Sparkify"
   ]
  },
  {
   "cell_type": "markdown",
   "metadata": {},
   "source": [
    "## 概述\n",
    "Sparkify是一家数字音乐服务的公司，大量用户每天使用该服务听自己喜欢的歌曲，他们可能是带广告的免费用户，或是使用尊贵会员的用户，会员听歌免费但是需要按月支付一定费用，用户可以升级降级，注销其账号。如果用户在平台体验不好，或需求没有得到满足，他们可能会流失(churn)，要在用户流失之前留住他们\n",
    "\n",
    "**为什么要预测用户流失？**\n",
    "\n",
    "此notebook尝试预测哪些用户可能会流失，如果在用户流失之前用某种方式留住他们(例如打折)，就能避免损失营业额。\n",
    "\n",
    "**如何预测用户流失？**\n",
    "\n",
    "我们假设现有数据代表sparkify平台上用户的一种模式，在现有数据上构建的模型可以泛化到其他用户。为了预测平台用户的流失，需要在现有数上构建了模型。具体来说，步骤是大致遵循加载数据集，清理数据，探索数据，提取特征，创建模型，最后用模型预测用户流失。"
   ]
  },
  {
   "cell_type": "markdown",
   "metadata": {},
   "source": [
    "## 数据\n",
    "用户每次和Sparkify服务互动都会产生用户行为数据，例如听歌曲，访问页面，添加好友，点赞等。完整的数据是12G，此notebook使用数据的一个子集(128M)，在非集群环境运行。"
   ]
  },
  {
   "cell_type": "code",
   "execution_count": 1,
   "metadata": {},
   "outputs": [],
   "source": [
    "# import libraries\n",
    "from pyspark.sql import SparkSession, Window\n",
    "from pyspark.sql.functions import udf, expr, col, isnan, max, avg, min, count, countDistinct, sqrt, lit, when, isnull\n",
    "from pyspark.sql.functions import monotonically_increasing_id\n",
    "from pyspark.ml.feature import StringIndexer, StandardScaler, VectorAssembler\n",
    "from pyspark.ml.evaluation import MulticlassClassificationEvaluator, BinaryClassificationEvaluator\n",
    "from pyspark.sql.functions import sum as fsum\n",
    "from pyspark.sql.functions import regexp_extract\n",
    "from pyspark.ml.tuning import CrossValidator, ParamGridBuilder\n",
    "from pyspark.ml.classification import LogisticRegression, GBTClassifier, LinearSVC, RandomForestClassifier\n",
    "from pyspark.ml import Pipeline\n",
    "import sklearn.metrics as metrics\n",
    "import pandas as pd\n",
    "\n",
    "from pyspark.sql.types import IntegerType, FloatType\n",
    "import numpy as np\n",
    "import matplotlib.pyplot as plt\n",
    "import seaborn as sb\n",
    "\n",
    "import datetime\n",
    "from time import time\n",
    "\n",
    "base_color = sb.color_palette()[0]\n",
    "sb.set_style(\"whitegrid\")\n",
    "\n",
    "%matplotlib inline"
   ]
  },
  {
   "cell_type": "code",
   "execution_count": 2,
   "metadata": {},
   "outputs": [],
   "source": [
    "# create a Spark session\n",
    "spark = SparkSession.builder.appName(\"Sparkify\").getOrCreate()"
   ]
  },
  {
   "cell_type": "markdown",
   "metadata": {},
   "source": [
    "## 清洗数据"
   ]
  },
  {
   "cell_type": "code",
   "execution_count": 3,
   "metadata": {
    "scrolled": false
   },
   "outputs": [
    {
     "name": "stdout",
     "output_type": "stream",
     "text": [
      "root\n",
      " |-- artist: string (nullable = true)\n",
      " |-- auth: string (nullable = true)\n",
      " |-- firstName: string (nullable = true)\n",
      " |-- gender: string (nullable = true)\n",
      " |-- itemInSession: long (nullable = true)\n",
      " |-- lastName: string (nullable = true)\n",
      " |-- length: double (nullable = true)\n",
      " |-- level: string (nullable = true)\n",
      " |-- location: string (nullable = true)\n",
      " |-- method: string (nullable = true)\n",
      " |-- page: string (nullable = true)\n",
      " |-- registration: long (nullable = true)\n",
      " |-- sessionId: long (nullable = true)\n",
      " |-- song: string (nullable = true)\n",
      " |-- status: long (nullable = true)\n",
      " |-- ts: long (nullable = true)\n",
      " |-- userAgent: string (nullable = true)\n",
      " |-- userId: string (nullable = true)\n",
      "\n",
      "数据集有286500行，18列。\n"
     ]
    }
   ],
   "source": [
    "df = spark.read.json(\"mini_sparkify_event_data.json\")\n",
    "df.printSchema()\n",
    "print('数据集有{}行，{}列。'.format(df.count(), len(df.columns)))"
   ]
  },
  {
   "cell_type": "code",
   "execution_count": 4,
   "metadata": {
    "scrolled": true
   },
   "outputs": [
    {
     "name": "stdout",
     "output_type": "stream",
     "text": [
      "-RECORD 0-----------------------------\n",
      " artist        | 0.20381151832460734  \n",
      " auth          | 0.0                  \n",
      " firstName     | 0.029130890052356022 \n",
      " gender        | 0.029130890052356022 \n",
      " itemInSession | 0.0                  \n",
      " lastName      | 0.029130890052356022 \n",
      " length        | 0.20381151832460734  \n",
      " level         | 0.0                  \n",
      " location      | 0.029130890052356022 \n",
      " method        | 0.0                  \n",
      " page          | 0.0                  \n",
      " registration  | 0.029130890052356022 \n",
      " sessionId     | 0.0                  \n",
      " song          | 0.20381151832460734  \n",
      " status        | 0.0                  \n",
      " ts            | 0.0                  \n",
      " userAgent     | 0.029130890052356022 \n",
      " userId        | 0.0                  \n",
      "\n"
     ]
    }
   ],
   "source": [
    "# 查看缺失值比率\n",
    "df.select([(count(when(isnull(c), c))/df.count()).alias(c) for c in df.columns]).show(vertical=True)"
   ]
  },
  {
   "cell_type": "markdown",
   "metadata": {},
   "source": [
    "上边观察到，artist / length / song的缺失比率一样，firstName / gender / lastName / location / registration / userAgent缺失比率一样，通过给这些行添加索引号，对比索引号发现它们缺失的是相同的行"
   ]
  },
  {
   "cell_type": "code",
   "execution_count": 5,
   "metadata": {},
   "outputs": [],
   "source": [
    "# 定义一个比较两个列是否一致的函数\n",
    "def column_consistent(df, kvs, how='inner'):\n",
    "    '''\n",
    "    INPUT\n",
    "    df - spark DataFrame\n",
    "    kvs - pair of column and value, compare two column's consistency. type:dict\n",
    "          available dict key: columns in df.columns\n",
    "          available dict value: 'null' / 'notnull' / 'nan' / 'value|value' / string / !string / number\n",
    "          eg. {'animal':'human','like':'money'}: all human like money，all like mone are human\n",
    "    how - inner / outer / left / right\n",
    "    \n",
    "    OUTPUT\n",
    "    return the consistency of two columns.\n",
    "    \n",
    "    '''\n",
    "    ks = list(kvs.keys())\n",
    "    vs = list(kvs.values())\n",
    "    df_index = df.select(\"*\").withColumn(\"index\", monotonically_increasing_id())\n",
    "    switch = {\n",
    "        \"null\": lambda *args: df_index[args[0]].isNull(),\n",
    "        \"nan\": lambda *args: isnan(df_index[args[0]]),\n",
    "        'notnull': lambda *args: df_index[args[0]].isNotNull(),\n",
    "        'isin': lambda *args: df_index[args[0]].isin(args[1].split('|')),\n",
    "    }\n",
    "    id_pair = {\n",
    "                k : df_index\\\n",
    "               .select(col('index').alias('{}={}_index'.format(k,v)))\\\n",
    "               .where((switch.get('isin' if '|' in v else v, lambda *args:df_index[args[0]]!=args[1].strip('!') if '!' in args[1] else df_index[args[0]]==args[1]))(k,v)) \\\n",
    "               for k,v in kvs.items()\n",
    "              }\n",
    "    result = id_pair[ks[0]].join(id_pair[ks[1]], id_pair[ks[0]]['{}={}_index'.format(ks[0],vs[0])]==id_pair[ks[1]]['{}={}_index'.format(ks[1],vs[1])], 'outer')\n",
    "    if result.where(result[result.columns[0]].isNull() | result[result.columns[1]].isNull()).count() == 0:\n",
    "        print('if \"{}={}\", then \"{}={}\". if \"{}={}\", then \"{}={}\".'.format(ks[0], vs[0], ks[1], vs[1], ks[1], vs[1], ks[0],vs[0]))\n",
    "    if how == 'inner':\n",
    "        return result.where(result[result.columns[0]].isNotNull() & result[result.columns[1]].isNotNull())\n",
    "    if how == 'outer':\n",
    "        return result\n",
    "    if how == 'left':\n",
    "        return result.where(result[result.columns[0]].isNotNull())\n",
    "    if how == 'right':\n",
    "        return result.where(result[result.columns[1]].isNotNull())"
   ]
  },
  {
   "cell_type": "code",
   "execution_count": 6,
   "metadata": {
    "scrolled": true
   },
   "outputs": [
    {
     "name": "stdout",
     "output_type": "stream",
     "text": [
      "if \"artist=null\", then \"length=null\". if \"length=null\", then \"artist=null\".\n",
      "if \"length=null\", then \"song=null\". if \"song=null\", then \"length=null\".\n"
     ]
    },
    {
     "data": {
      "text/plain": [
       "DataFrame[length=null_index: bigint, song=null_index: bigint]"
      ]
     },
     "execution_count": 6,
     "metadata": {},
     "output_type": "execute_result"
    }
   ],
   "source": [
    "# artist缺失，length缺失，song缺失的行是相同\n",
    "column_consistent(df, {'artist':'null', 'length':'null'})\n",
    "column_consistent(df, {'length':'null', 'song':'null'})"
   ]
  },
  {
   "cell_type": "code",
   "execution_count": 7,
   "metadata": {
    "scrolled": false
   },
   "outputs": [
    {
     "name": "stdout",
     "output_type": "stream",
     "text": [
      "if \"firstname=null\", then \"gender=null\". if \"gender=null\", then \"firstname=null\".\n",
      "if \"gender=null\", then \"lastname=null\". if \"lastname=null\", then \"gender=null\".\n",
      "if \"lastname=null\", then \"location=null\". if \"location=null\", then \"lastname=null\".\n",
      "if \"location=null\", then \"registration=null\". if \"registration=null\", then \"location=null\".\n",
      "if \"registration=null\", then \"userAgent=null\". if \"userAgent=null\", then \"registration=null\".\n"
     ]
    },
    {
     "data": {
      "text/plain": [
       "DataFrame[registration=null_index: bigint, userAgent=null_index: bigint]"
      ]
     },
     "execution_count": 7,
     "metadata": {},
     "output_type": "execute_result"
    }
   ],
   "source": [
    "# firstname缺失，gender缺失，lastname缺失，location缺失，registration缺失，userAgent缺失的行是相同的\n",
    "column_consistent(df, {'firstname':'null', 'gender':'null'})\n",
    "column_consistent(df, {'gender':'null', 'lastname':'null'})\n",
    "column_consistent(df, {'lastname':'null', 'location':'null'})\n",
    "column_consistent(df, {'location':'null', 'registration':'null'})\n",
    "column_consistent(df, {'registration':'null', 'userAgent':'null'})"
   ]
  },
  {
   "cell_type": "markdown",
   "metadata": {},
   "source": [
    "page=Cancellation Confirmation的行 和 auth=Cancelled的行是相同的"
   ]
  },
  {
   "cell_type": "code",
   "execution_count": 8,
   "metadata": {
    "scrolled": true
   },
   "outputs": [
    {
     "name": "stdout",
     "output_type": "stream",
     "text": [
      "if \"page=Cancellation Confirmation\", then \"auth=Cancelled\". if \"auth=Cancelled\", then \"page=Cancellation Confirmation\".\n"
     ]
    },
    {
     "data": {
      "text/plain": [
       "DataFrame[page=Cancellation Confirmation_index: bigint, auth=Cancelled_index: bigint]"
      ]
     },
     "execution_count": 8,
     "metadata": {},
     "output_type": "execute_result"
    }
   ],
   "source": [
    "column_consistent(df, {'page':'Cancellation Confirmation', 'auth':'Cancelled'})"
   ]
  },
  {
   "cell_type": "markdown",
   "metadata": {},
   "source": [
    "详细看一下artist和length和song有缺失值的行，发现这些用户处在没有听任何歌曲的状态(song=None)"
   ]
  },
  {
   "cell_type": "code",
   "execution_count": 9,
   "metadata": {
    "scrolled": false
   },
   "outputs": [
    {
     "data": {
      "text/plain": [
       "[Row(artist=None, auth='Logged In', firstName='Colin', gender='M', itemInSession=54, lastName='Freeman', length=None, level='paid', location='Bakersfield, CA', method='PUT', page='Add to Playlist', registration=1538173362000, sessionId=29, song=None, status=200, ts=1538352905000, userAgent='Mozilla/5.0 (Windows NT 6.1; WOW64; rv:31.0) Gecko/20100101 Firefox/31.0', userId='30'),\n",
       " Row(artist=None, auth='Logged In', firstName='Micah', gender='M', itemInSession=84, lastName='Long', length=None, level='free', location='Boston-Cambridge-Newton, MA-NH', method='GET', page='Roll Advert', registration=1538331630000, sessionId=8, song=None, status=200, ts=1538353150000, userAgent='\"Mozilla/5.0 (Windows NT 6.1; WOW64) AppleWebKit/537.36 (KHTML, like Gecko) Chrome/37.0.2062.103 Safari/537.36\"', userId='9'),\n",
       " Row(artist=None, auth='Logged In', firstName='Micah', gender='M', itemInSession=86, lastName='Long', length=None, level='free', location='Boston-Cambridge-Newton, MA-NH', method='PUT', page='Thumbs Up', registration=1538331630000, sessionId=8, song=None, status=307, ts=1538353376000, userAgent='\"Mozilla/5.0 (Windows NT 6.1; WOW64) AppleWebKit/537.36 (KHTML, like Gecko) Chrome/37.0.2062.103 Safari/537.36\"', userId='9'),\n",
       " Row(artist=None, auth='Logged In', firstName='Alexi', gender='F', itemInSession=4, lastName='Warren', length=None, level='paid', location='Spokane-Spokane Valley, WA', method='GET', page='Downgrade', registration=1532482662000, sessionId=53, song=None, status=200, ts=1538354749000, userAgent='Mozilla/5.0 (Windows NT 6.1; WOW64; rv:32.0) Gecko/20100101 Firefox/32.0', userId='54'),\n",
       " Row(artist=None, auth='Logged In', firstName='Alexi', gender='F', itemInSession=7, lastName='Warren', length=None, level='paid', location='Spokane-Spokane Valley, WA', method='PUT', page='Thumbs Up', registration=1532482662000, sessionId=53, song=None, status=307, ts=1538355255000, userAgent='Mozilla/5.0 (Windows NT 6.1; WOW64; rv:32.0) Gecko/20100101 Firefox/32.0', userId='54')]"
      ]
     },
     "execution_count": 9,
     "metadata": {},
     "output_type": "execute_result"
    }
   ],
   "source": [
    "df.where((df['artist'].isNull())).take(5)"
   ]
  },
  {
   "cell_type": "markdown",
   "metadata": {},
   "source": [
    "详细看下firstName和gender和lastName和location和registration和userAgen有缺失值的行，发现这些是没有注册的游客(registration=None)"
   ]
  },
  {
   "cell_type": "code",
   "execution_count": 10,
   "metadata": {
    "scrolled": false
   },
   "outputs": [
    {
     "data": {
      "text/plain": [
       "[Row(artist=None, auth='Logged Out', firstName=None, gender=None, itemInSession=100, lastName=None, length=None, level='free', location=None, method='GET', page='Home', registration=None, sessionId=8, song=None, status=200, ts=1538355745000, userAgent=None, userId=''),\n",
       " Row(artist=None, auth='Logged Out', firstName=None, gender=None, itemInSession=101, lastName=None, length=None, level='free', location=None, method='GET', page='Help', registration=None, sessionId=8, song=None, status=200, ts=1538355807000, userAgent=None, userId=''),\n",
       " Row(artist=None, auth='Logged Out', firstName=None, gender=None, itemInSession=102, lastName=None, length=None, level='free', location=None, method='GET', page='Home', registration=None, sessionId=8, song=None, status=200, ts=1538355841000, userAgent=None, userId=''),\n",
       " Row(artist=None, auth='Logged Out', firstName=None, gender=None, itemInSession=103, lastName=None, length=None, level='free', location=None, method='PUT', page='Login', registration=None, sessionId=8, song=None, status=307, ts=1538355842000, userAgent=None, userId=''),\n",
       " Row(artist=None, auth='Logged Out', firstName=None, gender=None, itemInSession=2, lastName=None, length=None, level='free', location=None, method='GET', page='Home', registration=None, sessionId=240, song=None, status=200, ts=1538356678000, userAgent=None, userId='')]"
      ]
     },
     "execution_count": 10,
     "metadata": {},
     "output_type": "execute_result"
    }
   ],
   "source": [
    "df.where((df['firstName'].isNull())).take(5)"
   ]
  },
  {
   "cell_type": "markdown",
   "metadata": {},
   "source": [
    "userId存在空字符串的行"
   ]
  },
  {
   "cell_type": "code",
   "execution_count": 11,
   "metadata": {
    "scrolled": false
   },
   "outputs": [
    {
     "name": "stdout",
     "output_type": "stream",
     "text": [
      "+------+\n",
      "|userId|\n",
      "+------+\n",
      "|      |\n",
      "|    10|\n",
      "|   100|\n",
      "|100001|\n",
      "|100002|\n",
      "+------+\n",
      "only showing top 5 rows\n",
      "\n"
     ]
    }
   ],
   "source": [
    "df.select('userId').dropDuplicates().sort('userId').show(5)"
   ]
  },
  {
   "cell_type": "code",
   "execution_count": 12,
   "metadata": {},
   "outputs": [
    {
     "name": "stdout",
     "output_type": "stream",
     "text": [
      "if \"userId=\", then \"registration=null\". if \"registration=null\", then \"userId=\".\n"
     ]
    },
    {
     "data": {
      "text/plain": [
       "DataFrame[userId=_index: bigint, registration=null_index: bigint]"
      ]
     },
     "execution_count": 12,
     "metadata": {},
     "output_type": "execute_result"
    }
   ],
   "source": [
    "column_consistent(df, {'userId':'', 'registration':'null'})"
   ]
  },
  {
   "cell_type": "markdown",
   "metadata": {},
   "source": [
    "userId是空字符串的数量与游客数量相等，且是相同的行"
   ]
  },
  {
   "cell_type": "code",
   "execution_count": 13,
   "metadata": {
    "scrolled": true
   },
   "outputs": [
    {
     "name": "stdout",
     "output_type": "stream",
     "text": [
      "数据中userId是空字符串的数量是： 8346\n",
      "游客的数量是： 8346\n",
      "if \"userId=\", then \"registration=null\". if \"registration=null\", then \"userId=\".\n"
     ]
    },
    {
     "data": {
      "text/plain": [
       "DataFrame[userId=_index: bigint, registration=null_index: bigint]"
      ]
     },
     "execution_count": 13,
     "metadata": {},
     "output_type": "execute_result"
    }
   ],
   "source": [
    "print('数据中userId是空字符串的数量是： {}'.format(df.where(df.userId == '').count()))\n",
    "print('游客的数量是：', df.where(df.registration.isNull()).count())\n",
    "column_consistent(df, {'userId':'','registration':'null'})"
   ]
  },
  {
   "cell_type": "markdown",
   "metadata": {},
   "source": [
    "业务理解1：分别抽取几个访问过Cancellation Confirmation页面的付费和免费用户(游客不会访问Cancellation Confirmation页面)，观察他们访问Cancellation Confirmation页面之后的行为，发现在访问Cancellation Confirmation之后，就没有任何活动了，可以理解为用户注销了，或者用户churn。"
   ]
  },
  {
   "cell_type": "code",
   "execution_count": 14,
   "metadata": {},
   "outputs": [
    {
     "name": "stdout",
     "output_type": "stream",
     "text": [
      "+------+-----+\n",
      "|userId|level|\n",
      "+------+-----+\n",
      "|    18| paid|\n",
      "|    32| paid|\n",
      "|   105| paid|\n",
      "|    17| paid|\n",
      "|   101| paid|\n",
      "+------+-----+\n",
      "only showing top 5 rows\n",
      "\n",
      "+------+-----+\n",
      "|userId|level|\n",
      "+------+-----+\n",
      "|   125| free|\n",
      "|   143| free|\n",
      "|100011| free|\n",
      "|100001| free|\n",
      "|100024| free|\n",
      "+------+-----+\n",
      "only showing top 5 rows\n",
      "\n"
     ]
    }
   ],
   "source": [
    "# 筛选出访问过Cancellation Confirmation的paid和free用户\n",
    "df.select('userId','level').where(df.level=='paid').where(df.page=='Cancellation Confirmation').show(5)\n",
    "df.select('userId','level').where(df.level=='free').where(df.page=='Cancellation Confirmation').show(5)"
   ]
  },
  {
   "cell_type": "code",
   "execution_count": 15,
   "metadata": {
    "scrolled": true
   },
   "outputs": [
    {
     "data": {
      "text/plain": [
       "[Row(level='paid', page='NextSong'),\n",
       " Row(level='paid', page='NextSong'),\n",
       " Row(level='paid', page='Downgrade'),\n",
       " Row(level='paid', page='Cancel'),\n",
       " Row(level='paid', page='Cancellation Confirmation')]"
      ]
     },
     "execution_count": 15,
     "metadata": {},
     "output_type": "execute_result"
    }
   ],
   "source": [
    "# 查看paid用户userId=18最后的活动\n",
    "df.select('level','page').where(df.userId=='18').collect()[-5:]"
   ]
  },
  {
   "cell_type": "code",
   "execution_count": 16,
   "metadata": {
    "scrolled": true
   },
   "outputs": [
    {
     "data": {
      "text/plain": [
       "[Row(level='paid', page='NextSong'),\n",
       " Row(level='paid', page='NextSong'),\n",
       " Row(level='paid', page='Downgrade'),\n",
       " Row(level='paid', page='Cancel'),\n",
       " Row(level='paid', page='Cancellation Confirmation')]"
      ]
     },
     "execution_count": 16,
     "metadata": {},
     "output_type": "execute_result"
    }
   ],
   "source": [
    "# 查看paid用户userId=32最后的活动\n",
    "df.select('level','page').where(df.userId=='32').collect()[-5:]"
   ]
  },
  {
   "cell_type": "code",
   "execution_count": 17,
   "metadata": {
    "scrolled": false
   },
   "outputs": [
    {
     "data": {
      "text/plain": [
       "[Row(level='free', page='NextSong'),\n",
       " Row(level='free', page='NextSong'),\n",
       " Row(level='free', page='Roll Advert'),\n",
       " Row(level='free', page='Cancel'),\n",
       " Row(level='free', page='Cancellation Confirmation')]"
      ]
     },
     "execution_count": 17,
     "metadata": {},
     "output_type": "execute_result"
    }
   ],
   "source": [
    "# 查看free用户userId=125最后的活动\n",
    "df.select('level','page').where(df.userId=='125').collect()[-5:]"
   ]
  },
  {
   "cell_type": "code",
   "execution_count": 18,
   "metadata": {
    "scrolled": false
   },
   "outputs": [
    {
     "data": {
      "text/plain": [
       "[Row(level='free', page='NextSong'),\n",
       " Row(level='free', page='NextSong'),\n",
       " Row(level='free', page='Settings'),\n",
       " Row(level='free', page='Cancel'),\n",
       " Row(level='free', page='Cancellation Confirmation')]"
      ]
     },
     "execution_count": 18,
     "metadata": {},
     "output_type": "execute_result"
    }
   ],
   "source": [
    "# 查看free用户userId=143最后的活动\n",
    "df.select('level','page').where(df.userId=='143').collect()[-5:]"
   ]
  },
  {
   "cell_type": "markdown",
   "metadata": {},
   "source": [
    "业务理解2：游客的level也可以是paid，可能是游客购买了单曲，被标识为了paid用户"
   ]
  },
  {
   "cell_type": "code",
   "execution_count": 19,
   "metadata": {
    "scrolled": true
   },
   "outputs": [
    {
     "name": "stdout",
     "output_type": "stream",
     "text": [
      "+------+-----+------------+\n",
      "|userId|level|registration|\n",
      "+------+-----+------------+\n",
      "|      | paid|        null|\n",
      "|      | paid|        null|\n",
      "|      | paid|        null|\n",
      "|      | paid|        null|\n",
      "|      | paid|        null|\n",
      "+------+-----+------------+\n",
      "only showing top 5 rows\n",
      "\n"
     ]
    }
   ],
   "source": [
    "# 查看level是paid，用户名是空字符串的记录\n",
    "df.select('userId','level','registration').where(df.userId=='').where(df.level=='paid').show(5)"
   ]
  },
  {
   "cell_type": "markdown",
   "metadata": {},
   "source": [
    "由于游客永远不会访问Cancellation Confirmation，对于预测churn来说没有意义，将游客的数据删除"
   ]
  },
  {
   "cell_type": "code",
   "execution_count": 20,
   "metadata": {
    "scrolled": true
   },
   "outputs": [
    {
     "name": "stdout",
     "output_type": "stream",
     "text": [
      "+------+\n",
      "|userId|\n",
      "+------+\n",
      "|    10|\n",
      "|   100|\n",
      "|100001|\n",
      "|100002|\n",
      "|100003|\n",
      "+------+\n",
      "only showing top 5 rows\n",
      "\n"
     ]
    }
   ],
   "source": [
    "# 删除registration是空的行，即删除游客的记录\n",
    "df_valid = df.dropna(subset='registration')\n",
    "df_valid.select('userId').dropDuplicates().sort('userId').show(5)"
   ]
  },
  {
   "cell_type": "markdown",
   "metadata": {},
   "source": [
    "数中的ts是unix时间戳形式，将其转换为可读时间，并提取其中的星期和小时，保存到新的列"
   ]
  },
  {
   "cell_type": "code",
   "execution_count": 21,
   "metadata": {},
   "outputs": [],
   "source": [
    "# 将时间戳转为可读形式\n",
    "convert_ts = udf(lambda x: datetime.datetime.fromtimestamp(x / 1000.0).strftime(\"%Y-%m-%d %H:%M:%S\"))\n",
    "df_valid = df_valid.withColumn('ts_readable', convert_ts('ts'))\n",
    "# 提取时间戳中的小时\n",
    "get_hour = udf(lambda x: datetime.datetime.fromtimestamp(x / 1000.0).hour)\n",
    "df_valid = df_valid.withColumn(\"hour\", get_hour(df.ts).cast('int'))\n",
    "# 提取时间戳中的星期\n",
    "get_month = udf(lambda x: datetime.datetime.fromtimestamp(x / 1000.0).weekday())\n",
    "df_valid = df_valid.withColumn('week', get_hour(df.ts).cast('int'))"
   ]
  },
  {
   "cell_type": "markdown",
   "metadata": {},
   "source": [
    "提取location中的州，保存到location_state"
   ]
  },
  {
   "cell_type": "code",
   "execution_count": 22,
   "metadata": {},
   "outputs": [],
   "source": [
    "df_valid = df_valid.withColumn('location_state', regexp_extract('location',',(.*)',1))"
   ]
  },
  {
   "cell_type": "code",
   "execution_count": 23,
   "metadata": {
    "scrolled": false
   },
   "outputs": [
    {
     "name": "stdout",
     "output_type": "stream",
     "text": [
      "清洗后数据集有278154行，22列\n"
     ]
    }
   ],
   "source": [
    "print('清洗后数据集有{}行，{}列'.format(df_valid.count(), len(df_valid.columns)))"
   ]
  },
  {
   "cell_type": "markdown",
   "metadata": {},
   "source": [
    "## 探索数据"
   ]
  },
  {
   "cell_type": "code",
   "execution_count": 24,
   "metadata": {
    "scrolled": false
   },
   "outputs": [
    {
     "name": "stdout",
     "output_type": "stream",
     "text": [
      "root\n",
      " |-- artist: string (nullable = true)\n",
      " |-- auth: string (nullable = true)\n",
      " |-- firstName: string (nullable = true)\n",
      " |-- gender: string (nullable = true)\n",
      " |-- itemInSession: long (nullable = true)\n",
      " |-- lastName: string (nullable = true)\n",
      " |-- length: double (nullable = true)\n",
      " |-- level: string (nullable = true)\n",
      " |-- location: string (nullable = true)\n",
      " |-- method: string (nullable = true)\n",
      " |-- page: string (nullable = true)\n",
      " |-- registration: long (nullable = true)\n",
      " |-- sessionId: long (nullable = true)\n",
      " |-- song: string (nullable = true)\n",
      " |-- status: long (nullable = true)\n",
      " |-- ts: long (nullable = true)\n",
      " |-- userAgent: string (nullable = true)\n",
      " |-- userId: string (nullable = true)\n",
      " |-- ts_readable: string (nullable = true)\n",
      " |-- hour: integer (nullable = true)\n",
      " |-- week: integer (nullable = true)\n",
      " |-- location_state: string (nullable = true)\n",
      "\n"
     ]
    }
   ],
   "source": [
    "df_valid.printSchema()"
   ]
  },
  {
   "cell_type": "code",
   "execution_count": 25,
   "metadata": {
    "scrolled": true
   },
   "outputs": [
    {
     "data": {
      "text/html": [
       "<div>\n",
       "<style scoped>\n",
       "    .dataframe tbody tr th:only-of-type {\n",
       "        vertical-align: middle;\n",
       "    }\n",
       "\n",
       "    .dataframe tbody tr th {\n",
       "        vertical-align: top;\n",
       "    }\n",
       "\n",
       "    .dataframe thead th {\n",
       "        text-align: right;\n",
       "    }\n",
       "</style>\n",
       "<table border=\"1\" class=\"dataframe\">\n",
       "  <thead>\n",
       "    <tr style=\"text-align: right;\">\n",
       "      <th></th>\n",
       "      <th>artist</th>\n",
       "      <th>auth</th>\n",
       "      <th>firstName</th>\n",
       "      <th>gender</th>\n",
       "      <th>itemInSession</th>\n",
       "      <th>lastName</th>\n",
       "      <th>length</th>\n",
       "      <th>level</th>\n",
       "      <th>location</th>\n",
       "      <th>method</th>\n",
       "      <th>page</th>\n",
       "      <th>registration</th>\n",
       "      <th>sessionId</th>\n",
       "      <th>song</th>\n",
       "      <th>status</th>\n",
       "      <th>ts</th>\n",
       "      <th>userAgent</th>\n",
       "      <th>userId</th>\n",
       "    </tr>\n",
       "  </thead>\n",
       "  <tbody>\n",
       "    <tr>\n",
       "      <th>0</th>\n",
       "      <td>Martha Tilston</td>\n",
       "      <td>Logged In</td>\n",
       "      <td>Colin</td>\n",
       "      <td>M</td>\n",
       "      <td>50</td>\n",
       "      <td>Freeman</td>\n",
       "      <td>277.89016</td>\n",
       "      <td>paid</td>\n",
       "      <td>Bakersfield, CA</td>\n",
       "      <td>PUT</td>\n",
       "      <td>NextSong</td>\n",
       "      <td>1538173362000</td>\n",
       "      <td>29</td>\n",
       "      <td>Rockpools</td>\n",
       "      <td>200</td>\n",
       "      <td>1538352117000</td>\n",
       "      <td>Mozilla/5.0 (Windows NT 6.1; WOW64; rv:31.0) G...</td>\n",
       "      <td>30</td>\n",
       "    </tr>\n",
       "    <tr>\n",
       "      <th>1</th>\n",
       "      <td>Five Iron Frenzy</td>\n",
       "      <td>Logged In</td>\n",
       "      <td>Micah</td>\n",
       "      <td>M</td>\n",
       "      <td>79</td>\n",
       "      <td>Long</td>\n",
       "      <td>236.09424</td>\n",
       "      <td>free</td>\n",
       "      <td>Boston-Cambridge-Newton, MA-NH</td>\n",
       "      <td>PUT</td>\n",
       "      <td>NextSong</td>\n",
       "      <td>1538331630000</td>\n",
       "      <td>8</td>\n",
       "      <td>Canada</td>\n",
       "      <td>200</td>\n",
       "      <td>1538352180000</td>\n",
       "      <td>\"Mozilla/5.0 (Windows NT 6.1; WOW64) AppleWebK...</td>\n",
       "      <td>9</td>\n",
       "    </tr>\n",
       "    <tr>\n",
       "      <th>2</th>\n",
       "      <td>Adam Lambert</td>\n",
       "      <td>Logged In</td>\n",
       "      <td>Colin</td>\n",
       "      <td>M</td>\n",
       "      <td>51</td>\n",
       "      <td>Freeman</td>\n",
       "      <td>282.82730</td>\n",
       "      <td>paid</td>\n",
       "      <td>Bakersfield, CA</td>\n",
       "      <td>PUT</td>\n",
       "      <td>NextSong</td>\n",
       "      <td>1538173362000</td>\n",
       "      <td>29</td>\n",
       "      <td>Time For Miracles</td>\n",
       "      <td>200</td>\n",
       "      <td>1538352394000</td>\n",
       "      <td>Mozilla/5.0 (Windows NT 6.1; WOW64; rv:31.0) G...</td>\n",
       "      <td>30</td>\n",
       "    </tr>\n",
       "    <tr>\n",
       "      <th>3</th>\n",
       "      <td>Enigma</td>\n",
       "      <td>Logged In</td>\n",
       "      <td>Micah</td>\n",
       "      <td>M</td>\n",
       "      <td>80</td>\n",
       "      <td>Long</td>\n",
       "      <td>262.71302</td>\n",
       "      <td>free</td>\n",
       "      <td>Boston-Cambridge-Newton, MA-NH</td>\n",
       "      <td>PUT</td>\n",
       "      <td>NextSong</td>\n",
       "      <td>1538331630000</td>\n",
       "      <td>8</td>\n",
       "      <td>Knocking On Forbidden Doors</td>\n",
       "      <td>200</td>\n",
       "      <td>1538352416000</td>\n",
       "      <td>\"Mozilla/5.0 (Windows NT 6.1; WOW64) AppleWebK...</td>\n",
       "      <td>9</td>\n",
       "    </tr>\n",
       "    <tr>\n",
       "      <th>4</th>\n",
       "      <td>Daft Punk</td>\n",
       "      <td>Logged In</td>\n",
       "      <td>Colin</td>\n",
       "      <td>M</td>\n",
       "      <td>52</td>\n",
       "      <td>Freeman</td>\n",
       "      <td>223.60771</td>\n",
       "      <td>paid</td>\n",
       "      <td>Bakersfield, CA</td>\n",
       "      <td>PUT</td>\n",
       "      <td>NextSong</td>\n",
       "      <td>1538173362000</td>\n",
       "      <td>29</td>\n",
       "      <td>Harder Better Faster Stronger</td>\n",
       "      <td>200</td>\n",
       "      <td>1538352676000</td>\n",
       "      <td>Mozilla/5.0 (Windows NT 6.1; WOW64; rv:31.0) G...</td>\n",
       "      <td>30</td>\n",
       "    </tr>\n",
       "  </tbody>\n",
       "</table>\n",
       "</div>"
      ],
      "text/plain": [
       "             artist       auth firstName gender  itemInSession lastName  \\\n",
       "0    Martha Tilston  Logged In     Colin      M             50  Freeman   \n",
       "1  Five Iron Frenzy  Logged In     Micah      M             79     Long   \n",
       "2      Adam Lambert  Logged In     Colin      M             51  Freeman   \n",
       "3            Enigma  Logged In     Micah      M             80     Long   \n",
       "4         Daft Punk  Logged In     Colin      M             52  Freeman   \n",
       "\n",
       "      length level                        location method      page  \\\n",
       "0  277.89016  paid                 Bakersfield, CA    PUT  NextSong   \n",
       "1  236.09424  free  Boston-Cambridge-Newton, MA-NH    PUT  NextSong   \n",
       "2  282.82730  paid                 Bakersfield, CA    PUT  NextSong   \n",
       "3  262.71302  free  Boston-Cambridge-Newton, MA-NH    PUT  NextSong   \n",
       "4  223.60771  paid                 Bakersfield, CA    PUT  NextSong   \n",
       "\n",
       "    registration  sessionId                           song  status  \\\n",
       "0  1538173362000         29                      Rockpools     200   \n",
       "1  1538331630000          8                         Canada     200   \n",
       "2  1538173362000         29              Time For Miracles     200   \n",
       "3  1538331630000          8    Knocking On Forbidden Doors     200   \n",
       "4  1538173362000         29  Harder Better Faster Stronger     200   \n",
       "\n",
       "              ts                                          userAgent userId  \n",
       "0  1538352117000  Mozilla/5.0 (Windows NT 6.1; WOW64; rv:31.0) G...     30  \n",
       "1  1538352180000  \"Mozilla/5.0 (Windows NT 6.1; WOW64) AppleWebK...      9  \n",
       "2  1538352394000  Mozilla/5.0 (Windows NT 6.1; WOW64; rv:31.0) G...     30  \n",
       "3  1538352416000  \"Mozilla/5.0 (Windows NT 6.1; WOW64) AppleWebK...      9  \n",
       "4  1538352676000  Mozilla/5.0 (Windows NT 6.1; WOW64; rv:31.0) G...     30  "
      ]
     },
     "execution_count": 25,
     "metadata": {},
     "output_type": "execute_result"
    }
   ],
   "source": [
    "pd.DataFrame(df.take(5), columns=df.columns).head()"
   ]
  },
  {
   "cell_type": "markdown",
   "metadata": {},
   "source": [
    "### 定义churn"
   ]
  },
  {
   "cell_type": "code",
   "execution_count": 26,
   "metadata": {},
   "outputs": [],
   "source": [
    "# 添加新列churn_page，如果page=Cancellation Confirmation，churn_page=1\n",
    "transform_churn = udf(lambda x:1 if x=='Cancellation Confirmation' else 0, IntegerType())\n",
    "df_valid = df_valid.withColumn('churn_page', transform_churn('page'))\n",
    "# 按用户分组，根据churn_page得到用户是否流失(churn列)\n",
    "windowval = Window.partitionBy('userId')\n",
    "df_valid = df_valid.withColumn('churn', max('churn_page').over(windowval))"
   ]
  },
  {
   "cell_type": "markdown",
   "metadata": {},
   "source": [
    "### 单变量探索"
   ]
  },
  {
   "cell_type": "markdown",
   "metadata": {},
   "source": [
    "#### churn的分布"
   ]
  },
  {
   "cell_type": "code",
   "execution_count": 27,
   "metadata": {
    "scrolled": true
   },
   "outputs": [
    {
     "name": "stdout",
     "output_type": "stream",
     "text": [
      "churn ratio：23.11%\n"
     ]
    }
   ],
   "source": [
    "churn_ratio = df_valid.select('userId','churn').dropDuplicates(subset=['userId'])\\\n",
    "    .select(avg('churn').alias('churn_ratio')).take(1)[0]['churn_ratio']\n",
    "print('churn ratio：{:.2f}%'.format(churn_ratio * 100))"
   ]
  },
  {
   "cell_type": "code",
   "execution_count": 28,
   "metadata": {
    "scrolled": false
   },
   "outputs": [
    {
     "data": {
      "image/png": "[encoded data removed]",
      "text/plain": [
       "<Figure size 432x288 with 1 Axes>"
      ]
     },
     "metadata": {
      "needs_background": "light"
     },
     "output_type": "display_data"
    }
   ],
   "source": [
    "label_df = df_valid.select('userId','churn').dropDuplicates(subset=['userId']).groupBy('churn').count().toPandas()\n",
    "sb.barplot(x='churn', y='count',data=label_df);\n",
    "plt.title('most user do not churn');"
   ]
  },
  {
   "cell_type": "markdown",
   "metadata": {},
   "source": [
    "可以看到没有churn的客户远多于churn的客户，label是偏态分布的，这可能会影响预测结果"
   ]
  },
  {
   "cell_type": "markdown",
   "metadata": {},
   "source": [
    "#### 用户数量"
   ]
  },
  {
   "cell_type": "code",
   "execution_count": 29,
   "metadata": {
    "scrolled": false
   },
   "outputs": [
    {
     "name": "stdout",
     "output_type": "stream",
     "text": [
      "用户数量： 226\n"
     ]
    }
   ],
   "source": [
    "user_count = df.select(countDistinct('userId').alias('user_count')).take(1)[0]['user_count']\n",
    "print('用户数量：',user_count)"
   ]
  },
  {
   "cell_type": "markdown",
   "metadata": {},
   "source": [
    "#### artist唯一值数数量"
   ]
  },
  {
   "cell_type": "code",
   "execution_count": 30,
   "metadata": {},
   "outputs": [
    {
     "name": "stdout",
     "output_type": "stream",
     "text": [
      "+--------------------+-----+\n",
      "|              artist|count|\n",
      "+--------------------+-----+\n",
      "|       Kings Of Leon| 1841|\n",
      "|            Coldplay| 1813|\n",
      "|Florence + The Ma...| 1236|\n",
      "|       Dwight Yoakam| 1135|\n",
      "|            BjÃÂ¶rk| 1133|\n",
      "|      The Black Keys| 1125|\n",
      "|                Muse| 1090|\n",
      "|       Justin Bieber| 1044|\n",
      "|        Jack Johnson| 1007|\n",
      "|              Eminem|  953|\n",
      "|           Radiohead|  884|\n",
      "|     Alliance Ethnik|  876|\n",
      "|               Train|  854|\n",
      "|        Taylor Swift|  840|\n",
      "|         OneRepublic|  828|\n",
      "|         The Killers|  822|\n",
      "|         Linkin Park|  787|\n",
      "|         Evanescence|  781|\n",
      "|            Harmonia|  729|\n",
      "|       Guns N' Roses|  713|\n",
      "+--------------------+-----+\n",
      "only showing top 20 rows\n",
      "\n"
     ]
    }
   ],
   "source": [
    "df_valid.where(df_valid['artist'].isNotNull()).groupby('artist').count().sort('count', ascending=False).show()"
   ]
  },
  {
   "cell_type": "markdown",
   "metadata": {},
   "source": [
    "#### 最大length"
   ]
  },
  {
   "cell_type": "code",
   "execution_count": 31,
   "metadata": {
    "scrolled": true
   },
   "outputs": [
    {
     "name": "stdout",
     "output_type": "stream",
     "text": [
      "最大长度： 3024.66567\n"
     ]
    }
   ],
   "source": [
    "print('最大长度：',df_valid.select(max('length')).take(1)[0]['max(length)'])"
   ]
  },
  {
   "cell_type": "markdown",
   "metadata": {},
   "source": [
    "#### level的唯一值数量"
   ]
  },
  {
   "cell_type": "code",
   "execution_count": 32,
   "metadata": {
    "scrolled": true
   },
   "outputs": [
    {
     "name": "stdout",
     "output_type": "stream",
     "text": [
      "+-----+------+\n",
      "|level| count|\n",
      "+-----+------+\n",
      "| paid|222433|\n",
      "| free| 55721|\n",
      "+-----+------+\n",
      "\n"
     ]
    }
   ],
   "source": [
    "df_valid.groupby('level').count().sort('count', ascending=False).show()"
   ]
  },
  {
   "cell_type": "markdown",
   "metadata": {},
   "source": [
    "#### method的唯一值数量"
   ]
  },
  {
   "cell_type": "code",
   "execution_count": 33,
   "metadata": {
    "scrolled": true
   },
   "outputs": [
    {
     "name": "stdout",
     "output_type": "stream",
     "text": [
      "+------+------+\n",
      "|method| count|\n",
      "+------+------+\n",
      "|   PUT|257818|\n",
      "|   GET| 20336|\n",
      "+------+------+\n",
      "\n"
     ]
    }
   ],
   "source": [
    "df_valid.groupby('method').count().sort('count', ascending=False).show()"
   ]
  },
  {
   "cell_type": "markdown",
   "metadata": {},
   "source": [
    "#### page的唯一值数量"
   ]
  },
  {
   "cell_type": "code",
   "execution_count": 34,
   "metadata": {
    "scrolled": false
   },
   "outputs": [
    {
     "name": "stdout",
     "output_type": "stream",
     "text": [
      "+--------------------+------+\n",
      "|                page| count|\n",
      "+--------------------+------+\n",
      "|            NextSong|228108|\n",
      "|           Thumbs Up| 12551|\n",
      "|                Home| 10082|\n",
      "|     Add to Playlist|  6526|\n",
      "|          Add Friend|  4277|\n",
      "|         Roll Advert|  3933|\n",
      "|              Logout|  3226|\n",
      "|         Thumbs Down|  2546|\n",
      "|           Downgrade|  2055|\n",
      "|            Settings|  1514|\n",
      "|                Help|  1454|\n",
      "|             Upgrade|   499|\n",
      "|               About|   495|\n",
      "|       Save Settings|   310|\n",
      "|               Error|   252|\n",
      "|      Submit Upgrade|   159|\n",
      "|    Submit Downgrade|    63|\n",
      "|Cancellation Conf...|    52|\n",
      "|              Cancel|    52|\n",
      "+--------------------+------+\n",
      "\n"
     ]
    }
   ],
   "source": [
    "df_valid.groupby('page').count().sort('count', ascending=False).show()"
   ]
  },
  {
   "cell_type": "markdown",
   "metadata": {},
   "source": [
    "#### song的唯一值数量"
   ]
  },
  {
   "cell_type": "code",
   "execution_count": 35,
   "metadata": {},
   "outputs": [
    {
     "name": "stdout",
     "output_type": "stream",
     "text": [
      "+--------------------+-----+\n",
      "|                song|count|\n",
      "+--------------------+-----+\n",
      "|      You're The One| 1153|\n",
      "|                Undo| 1026|\n",
      "|             Revelry|  854|\n",
      "|       Sehr kosmisch|  728|\n",
      "|Horn Concerto No....|  641|\n",
      "|Dog Days Are Over...|  574|\n",
      "|             Secrets|  466|\n",
      "|        Use Somebody|  459|\n",
      "|              Canada|  435|\n",
      "|             Invalid|  424|\n",
      "|    Ain't Misbehavin|  409|\n",
      "|       ReprÃÂ©sente|  393|\n",
      "|SinceritÃÂ© Et J...|  384|\n",
      "|Catch You Baby (S...|  373|\n",
      "|              Yellow|  343|\n",
      "|    Somebody To Love|  343|\n",
      "|    Hey_ Soul Sister|  334|\n",
      "|            The Gift|  327|\n",
      "|           Fireflies|  312|\n",
      "|          Love Story|  309|\n",
      "+--------------------+-----+\n",
      "only showing top 20 rows\n",
      "\n"
     ]
    }
   ],
   "source": [
    "df_valid.where(df_valid['song'].isNotNull()).groupby('song').count().sort('count', ascending=False).show()"
   ]
  },
  {
   "cell_type": "markdown",
   "metadata": {},
   "source": [
    "status的唯一值数量"
   ]
  },
  {
   "cell_type": "code",
   "execution_count": 36,
   "metadata": {
    "scrolled": false
   },
   "outputs": [
    {
     "name": "stdout",
     "output_type": "stream",
     "text": [
      "+------+------+\n",
      "|status| count|\n",
      "+------+------+\n",
      "|   200|254718|\n",
      "|   307| 23184|\n",
      "|   404|   252|\n",
      "+------+------+\n",
      "\n"
     ]
    }
   ],
   "source": [
    "df_valid.groupby('status').count().sort('count', ascending=False).show()"
   ]
  },
  {
   "cell_type": "markdown",
   "metadata": {},
   "source": [
    "#### userAgent的唯一值数量"
   ]
  },
  {
   "cell_type": "code",
   "execution_count": 37,
   "metadata": {},
   "outputs": [
    {
     "name": "stdout",
     "output_type": "stream",
     "text": [
      "+-------------------------------------------------------------------------------------------------------------------------------------------+-----+\n",
      "|userAgent                                                                                                                                  |count|\n",
      "+-------------------------------------------------------------------------------------------------------------------------------------------+-----+\n",
      "|\"Mozilla/5.0 (Windows NT 6.1; WOW64) AppleWebKit/537.36 (KHTML, like Gecko) Chrome/36.0.1985.143 Safari/537.36\"                            |22751|\n",
      "|\"Mozilla/5.0 (Macintosh; Intel Mac OS X 10_9_4) AppleWebKit/537.77.4 (KHTML, like Gecko) Version/7.0.5 Safari/537.77.4\"                    |19611|\n",
      "|\"Mozilla/5.0 (Macintosh; Intel Mac OS X 10_9_4) AppleWebKit/537.36 (KHTML, like Gecko) Chrome/36.0.1985.125 Safari/537.36\"                 |18448|\n",
      "|\"Mozilla/5.0 (Macintosh; Intel Mac OS X 10_9_4) AppleWebKit/537.36 (KHTML, like Gecko) Chrome/36.0.1985.143 Safari/537.36\"                 |17348|\n",
      "|Mozilla/5.0 (Windows NT 6.1; WOW64; rv:31.0) Gecko/20100101 Firefox/31.0                                                                   |16700|\n",
      "|\"Mozilla/5.0 (Windows NT 6.1; WOW64) AppleWebKit/537.36 (KHTML, like Gecko) Chrome/36.0.1985.125 Safari/537.36\"                            |15395|\n",
      "|\"Mozilla/5.0 (Windows NT 6.1; WOW64) AppleWebKit/537.36 (KHTML, like Gecko) Chrome/37.0.2062.103 Safari/537.36\"                            |14598|\n",
      "|Mozilla/5.0 (Macintosh; Intel Mac OS X 10.9; rv:31.0) Gecko/20100101 Firefox/31.0                                                          |10300|\n",
      "|\"Mozilla/5.0 (iPad; CPU OS 7_1_2 like Mac OS X) AppleWebKit/537.51.2 (KHTML, like Gecko) Version/7.0 Mobile/11D257 Safari/9537.53\"         |8912 |\n",
      "|Mozilla/5.0 (compatible; MSIE 9.0; Windows NT 6.1; WOW64; Trident/5.0)                                                                     |8624 |\n",
      "|\"Mozilla/5.0 (Macintosh; Intel Mac OS X 10_9_4) AppleWebKit/537.78.2 (KHTML, like Gecko) Version/7.0.6 Safari/537.78.2\"                    |8094 |\n",
      "|\"Mozilla/5.0 (Windows NT 6.1) AppleWebKit/537.36 (KHTML, like Gecko) Chrome/36.0.1985.143 Safari/537.36\"                                   |7923 |\n",
      "|\"Mozilla/5.0 (Macintosh; Intel Mac OS X 10_9_4) AppleWebKit/537.36 (KHTML, like Gecko) Chrome/37.0.2062.94 Safari/537.36\"                  |7906 |\n",
      "|\"Mozilla/5.0 (Windows NT 6.3; WOW64) AppleWebKit/537.36 (KHTML, like Gecko) Chrome/36.0.1985.143 Safari/537.36\"                            |7624 |\n",
      "|\"Mozilla/5.0 (iPhone; CPU iPhone OS 7_1_2 like Mac OS X) AppleWebKit/537.51.2 (KHTML, like Gecko) Version/7.0 Mobile/11D257 Safari/9537.53\"|6417 |\n",
      "|Mozilla/5.0 (Windows NT 6.3; WOW64; rv:31.0) Gecko/20100101 Firefox/31.0                                                                   |5989 |\n",
      "|\"Mozilla/5.0 (Macintosh; Intel Mac OS X 10_10) AppleWebKit/600.1.8 (KHTML, like Gecko) Version/8.0 Safari/600.1.8\"                         |5716 |\n",
      "|\"Mozilla/5.0 (Windows NT 5.1) AppleWebKit/537.36 (KHTML, like Gecko) Chrome/36.0.1985.143 Safari/537.36\"                                   |5238 |\n",
      "|\"Mozilla/5.0 (Windows NT 6.3; WOW64) AppleWebKit/537.36 (KHTML, like Gecko) Chrome/36.0.1985.125 Safari/537.36\"                            |4917 |\n",
      "|Mozilla/5.0 (Windows NT 6.1; WOW64; Trident/7.0; rv:11.0) like Gecko                                                                       |4663 |\n",
      "+-------------------------------------------------------------------------------------------------------------------------------------------+-----+\n",
      "only showing top 20 rows\n",
      "\n"
     ]
    }
   ],
   "source": [
    "df_valid.groupby('userAgent').count().sort('count', ascending=False).show(truncate=False)"
   ]
  },
  {
   "cell_type": "markdown",
   "metadata": {},
   "source": [
    "gender的唯一值数量"
   ]
  },
  {
   "cell_type": "code",
   "execution_count": 38,
   "metadata": {
    "scrolled": true
   },
   "outputs": [
    {
     "name": "stdout",
     "output_type": "stream",
     "text": [
      "+------+------+\n",
      "|gender| count|\n",
      "+------+------+\n",
      "|     F|154578|\n",
      "|     M|123576|\n",
      "+------+------+\n",
      "\n"
     ]
    }
   ],
   "source": [
    "df_valid.groupby('gender').count().sort('count', ascending=False).show()"
   ]
  },
  {
   "cell_type": "markdown",
   "metadata": {},
   "source": [
    "#### 每个小时的用户操作数量"
   ]
  },
  {
   "cell_type": "code",
   "execution_count": 39,
   "metadata": {
    "scrolled": true
   },
   "outputs": [
    {
     "data": {
      "image/png": "[encoded data removed]",
      "text/plain": [
       "<Figure size 432x288 with 1 Axes>"
      ]
     },
     "metadata": {
      "needs_background": "light"
     },
     "output_type": "display_data"
    }
   ],
   "source": [
    "hourly_activity = df_valid.groupBy('hour').count().sort('hour').toPandas()\n",
    "plt.bar(hourly_activity['hour'],hourly_activity['count'])\n",
    "plt.title('Hourly activity');\n",
    "plt.xlabel('hour in day');\n",
    "plt.ylabel('Total operations');"
   ]
  },
  {
   "cell_type": "markdown",
   "metadata": {},
   "source": [
    "所有用户的总操作次数在一定程度上可以代表用户的活跃度，从图中看出在凌晨24点用户的活跃度相对较高"
   ]
  },
  {
   "cell_type": "markdown",
   "metadata": {},
   "source": [
    "### 双变量探索"
   ]
  },
  {
   "cell_type": "markdown",
   "metadata": {},
   "source": [
    "#### 男性和女性的付费用户数量是多少，每个性别的付费比率是多少"
   ]
  },
  {
   "cell_type": "code",
   "execution_count": 40,
   "metadata": {
    "scrolled": true
   },
   "outputs": [
    {
     "data": {
      "image/png": "[encoded data removed]",
      "text/plain": [
       "<Figure size 720x288 with 2 Axes>"
      ]
     },
     "metadata": {
      "needs_background": "light"
     },
     "output_type": "display_data"
    }
   ],
   "source": [
    "paid_count_per_gender = df_valid.groupBy('gender')\\\n",
    "    .agg(count(when(col('level')=='paid',col('level'))).alias('count')).toPandas()\n",
    "paid_ratio_per_gender = df_valid.groupBy('gender')\\\n",
    "    .agg((count(when(col('level')=='paid',col('level'))) / count('userId')).alias('paid_ratio')).toPandas()\n",
    "fig = plt.figure(figsize = [10, 4])\n",
    "plt.subplot(1, 2, 1)\n",
    "plt.bar(paid_count_per_gender['gender'],paid_count_per_gender['count']);\n",
    "plt.title('Number of paid users per gender');\n",
    "plt.ylabel('Paid user count');\n",
    "plt.subplot(1, 2, 2)\n",
    "plt.bar(paid_ratio_per_gender['gender'],paid_ratio_per_gender['paid_ratio']);\n",
    "plt.title('Rate of paid users per gender');\n",
    "plt.ylabel('Paid user ratio');"
   ]
  },
  {
   "cell_type": "markdown",
   "metadata": {},
   "source": [
    "平台上女性付费用户比男性付费用户多，两个性别付费比率相差不多都是80%"
   ]
  },
  {
   "cell_type": "markdown",
   "metadata": {},
   "source": [
    "#### 各地区的用户数量"
   ]
  },
  {
   "cell_type": "code",
   "execution_count": 41,
   "metadata": {
    "scrolled": true
   },
   "outputs": [
    {
     "data": {
      "image/png": "[encoded data removed]",
      "text/plain": [
       "<Figure size 1080x288 with 1 Axes>"
      ]
     },
     "metadata": {
      "needs_background": "light"
     },
     "output_type": "display_data"
    }
   ],
   "source": [
    "fig = plt.figure(figsize=(15,4))\n",
    "state_user = df_valid.select('userId','location_state').dropDuplicates(subset=['userId'])\\\n",
    "    .groupBy('location_state').agg(count('userId').alias('user_count')).toPandas()\n",
    "plt.bar(state_user['location_state'], state_user['user_count']);\n",
    "plt.xticks(rotation = 90);\n",
    "plt.title('Number of users in each state');\n",
    "plt.xlabel('State');\n",
    "plt.ylabel('Number of users');"
   ]
  },
  {
   "cell_type": "markdown",
   "metadata": {},
   "source": [
    "加利福尼亚州的用户最多"
   ]
  },
  {
   "cell_type": "markdown",
   "metadata": {},
   "source": [
    "#### 各个地区的付费用户数量，和付费用户比率"
   ]
  },
  {
   "cell_type": "code",
   "execution_count": 42,
   "metadata": {
    "scrolled": false
   },
   "outputs": [
    {
     "data": {
      "image/png": "[encoded data removed]",
      "text/plain": [
       "<Figure size 720x288 with 2 Axes>"
      ]
     },
     "metadata": {
      "needs_background": "light"
     },
     "output_type": "display_data"
    }
   ],
   "source": [
    "paid_count_per_state = df_valid.groupBy('location_state')\\\n",
    "    .agg(count(when(col('level')=='paid',col('level'))).alias('count'))\\\n",
    "    .sort('count',ascending=False).toPandas().head(5)\n",
    "top5_state = list(paid_count_per_state['location_state'].head(5))\n",
    "paid_ratio_per_state = df_valid.where(df_valid['location_state'].isin(top5_state))\\\n",
    "    .groupBy('location_state')\\\n",
    "    .agg((count(when(col('level')=='paid',col('level'))) / count('userId')).alias('paid_ratio'))\\\n",
    "    .toPandas()\n",
    "fig = plt.figure(figsize = [10, 4])\n",
    "plt.subplot(1, 2, 1)\n",
    "plt.bar(paid_count_per_state['location_state'],paid_count_per_state['count']);\n",
    "plt.title('Number of paying users in the top 5 states');\n",
    "plt.ylabel('Paid user count');\n",
    "plt.subplot(1, 2, 2)\n",
    "plt.bar(paid_ratio_per_state['location_state'],paid_ratio_per_state['paid_ratio']);\n",
    "plt.title(\"Top 5 states' paid ratio\");\n",
    "plt.ylabel('Paid user ratio');"
   ]
  },
  {
   "cell_type": "markdown",
   "metadata": {},
   "source": [
    "加利福尼亚州的付费人数最多，付费排名前五的州的付费比率差不多都在80%左右"
   ]
  },
  {
   "cell_type": "markdown",
   "metadata": {},
   "source": [
    "#### page和churn"
   ]
  },
  {
   "cell_type": "code",
   "execution_count": 43,
   "metadata": {
    "scrolled": false
   },
   "outputs": [
    {
     "data": {
      "image/png": "[encoded data removed]",
      "text/plain": [
       "<Figure size 720x288 with 1 Axes>"
      ]
     },
     "metadata": {
      "needs_background": "light"
     },
     "output_type": "display_data"
    }
   ],
   "source": [
    "churn_page_number = df_valid.groupBy('churn','page').count().toPandas()\n",
    "plt.figure(figsize=[10,4])\n",
    "sb.barplot(data=churn_page_number, x='page', hue='churn', y='count');\n",
    "plt.xticks(rotation=90);\n",
    "plt.title('number of page by churn');"
   ]
  },
  {
   "cell_type": "markdown",
   "metadata": {},
   "source": [
    "### 探索和churn相关的特征\n",
    "通过从数据中提取用户的特征，观察用户特征和churn的关系"
   ]
  },
  {
   "cell_type": "markdown",
   "metadata": {},
   "source": [
    "#### churn 和 status"
   ]
  },
  {
   "cell_type": "code",
   "execution_count": 44,
   "metadata": {
    "scrolled": false
   },
   "outputs": [
    {
     "name": "stdout",
     "output_type": "stream",
     "text": [
      "   churn     200    307  404\n",
      "0      1   41137   3695   32\n",
      "1      0  213581  19489  220\n"
     ]
    }
   ],
   "source": [
    "status_churn_numbers = df_valid.groupBy('churn').pivot('status').count().toPandas()\n",
    "print(status_churn_numbers)\n",
    "status_churn_numbers.loc[2,:] = status_churn_numbers.loc[0,:] / status_churn_numbers.loc[1,:]"
   ]
  },
  {
   "cell_type": "code",
   "execution_count": 45,
   "metadata": {
    "scrolled": false
   },
   "outputs": [
    {
     "data": {
      "image/png": "[encoded data removed]",
      "text/plain": [
       "<Figure size 432x288 with 1 Axes>"
      ]
     },
     "metadata": {
      "needs_background": "light"
     },
     "output_type": "display_data"
    }
   ],
   "source": [
    "plt.bar(['http_200','http_307','http_404'], status_churn_numbers.loc[2:].iloc[0,[1,2,3]]);\n",
    "plt.ylabel('not_chrun to churn');\n",
    "plt.title('http status influence is small');"
   ]
  },
  {
   "cell_type": "markdown",
   "metadata": {},
   "source": [
    "#### churn 和 level"
   ]
  },
  {
   "cell_type": "code",
   "execution_count": 46,
   "metadata": {},
   "outputs": [],
   "source": [
    "# 计算paid和free的churn比率，保存在churn_ratio列\n",
    "w = Window.partitionBy('level')\n",
    "level_churn_ratio_df = df_valid.groupBy('churn','level').count()\\\n",
    "    .withColumn('total',fsum('count').over(w))\\\n",
    "    .select('churn','level',(col('count')/col('total')).alias('churn_ratio'))\\\n",
    "    .where(df_valid.churn==1)\\\n",
    "    .toPandas()"
   ]
  },
  {
   "cell_type": "code",
   "execution_count": 47,
   "metadata": {
    "scrolled": true
   },
   "outputs": [
    {
     "data": {
      "image/png": "[encoded data removed]",
      "text/plain": [
       "<Figure size 432x288 with 1 Axes>"
      ]
     },
     "metadata": {
      "needs_background": "light"
     },
     "output_type": "display_data"
    }
   ],
   "source": [
    "bar = plt.bar(level_churn_ratio_df['level'],level_churn_ratio_df['churn_ratio'])\n",
    "for p in bar.patches:\n",
    "    plt.annotate(format(p.get_height(), '.2f'), (p.get_x() + p.get_width() / 2., p.get_height()),\n",
    "                 ha = 'center', va = 'top', xytext = (0, 10), textcoords = 'offset points')\n",
    "plt.ylabel('churn_ratio');\n",
    "plt.title(\"Free users's churn_ratio is greater than Paid users\");"
   ]
  },
  {
   "cell_type": "markdown",
   "metadata": {},
   "source": [
    "#### churn 和 gender"
   ]
  },
  {
   "cell_type": "code",
   "execution_count": 48,
   "metadata": {
    "scrolled": true
   },
   "outputs": [],
   "source": [
    "# 计算男女的churn比率，保存在churn_ratio列\n",
    "w = Window.partitionBy('gender')\n",
    "gender_churn_ratio_df = df_valid.groupBy('churn','gender').count()\\\n",
    "    .withColumn('total',fsum('count').over(w))\\\n",
    "    .select('churn','gender',(col('count')/col('total')).alias('churn_ratio'))\\\n",
    "    .where(df_valid.churn==1)\\\n",
    "    .toPandas()"
   ]
  },
  {
   "cell_type": "code",
   "execution_count": 49,
   "metadata": {
    "scrolled": false
   },
   "outputs": [
    {
     "data": {
      "image/png": "[encoded data removed]",
      "text/plain": [
       "<Figure size 432x288 with 1 Axes>"
      ]
     },
     "metadata": {
      "needs_background": "light"
     },
     "output_type": "display_data"
    }
   ],
   "source": [
    "bar = plt.bar(gender_churn_ratio_df['gender'],gender_churn_ratio_df['churn_ratio'])\n",
    "for p in bar.patches:\n",
    "    plt.annotate(format(p.get_height(), '.2f'), (p.get_x() + p.get_width() / 2., p.get_height()),\n",
    "                 ha = 'center', va = 'top', xytext = (0, 10), textcoords = 'offset points')\n",
    "plt.ylabel('churn_ratio');\n",
    "plt.title(\"Male users's churn_ratio is greater than Female users\");"
   ]
  },
  {
   "cell_type": "markdown",
   "metadata": {},
   "source": [
    "#### churn 和 用户注册时长"
   ]
  },
  {
   "cell_type": "code",
   "execution_count": 50,
   "metadata": {},
   "outputs": [],
   "source": [
    "hours_since_reg_df = df_valid.select(((col('ts') - col('registration'))/1000/60/60)\n",
    "                                     .alias('hours_since_reg'),'churn','userId')\\\n",
    "    .groupBy('churn','userId').agg(max('hours_since_reg'))\\\n",
    "    .withColumnRenamed('max(hours_since_reg)','hours_since_reg')\\\n",
    "    .toPandas()"
   ]
  },
  {
   "cell_type": "code",
   "execution_count": 51,
   "metadata": {
    "scrolled": false
   },
   "outputs": [
    {
     "data": {
      "image/png": "[encoded data removed]",
      "text/plain": [
       "<Figure size 432x288 with 1 Axes>"
      ]
     },
     "metadata": {
      "needs_background": "light"
     },
     "output_type": "display_data"
    }
   ],
   "source": [
    "sb.boxplot('hours_since_reg', 'churn', data=hours_since_reg_df, orient=\"h\");\n",
    "plt.title('users with short hours_since_reg are more likely to churn');"
   ]
  },
  {
   "cell_type": "code",
   "execution_count": 52,
   "metadata": {
    "scrolled": true
   },
   "outputs": [
    {
     "data": {
      "image/png": "[encoded data removed]",
      "text/plain": [
       "<Figure size 432x288 with 1 Axes>"
      ]
     },
     "metadata": {
      "needs_background": "light"
     },
     "output_type": "display_data"
    }
   ],
   "source": [
    "sb.distplot(hours_since_reg_df['hours_since_reg']);\n",
    "plt.title('hours_since_reg is Normal distribution');"
   ]
  },
  {
   "cell_type": "markdown",
   "metadata": {},
   "source": [
    "#### churn 和 用户会话会中song数量的均值"
   ]
  },
  {
   "cell_type": "code",
   "execution_count": 53,
   "metadata": {},
   "outputs": [],
   "source": [
    "avg_song_count_df = df_valid.where(df_valid['song'] != '')\\\n",
    "    .groupBy('userId','sessionId','churn')\\\n",
    "    .agg(count('song').alias('song_count'))\\\n",
    "    .groupBy('userId','churn')\\\n",
    "    .agg(avg('song_count').alias('avg_song_count'))\\\n",
    "    .select('churn','avg_song_count').toPandas()"
   ]
  },
  {
   "cell_type": "code",
   "execution_count": 54,
   "metadata": {
    "scrolled": true
   },
   "outputs": [
    {
     "data": {
      "image/png": "[encoded data removed]",
      "text/plain": [
       "<Figure size 432x288 with 1 Axes>"
      ]
     },
     "metadata": {
      "needs_background": "light"
     },
     "output_type": "display_data"
    }
   ],
   "source": [
    "sb.boxplot('avg_song_count','churn',data=avg_song_count_df, orient=\"h\");\n",
    "plt.title('users with less avg_song_count are more likely to churn');"
   ]
  },
  {
   "cell_type": "code",
   "execution_count": 55,
   "metadata": {
    "scrolled": false
   },
   "outputs": [
    {
     "data": {
      "image/png": "[encoded data removed]",
      "text/plain": [
       "<Figure size 432x288 with 1 Axes>"
      ]
     },
     "metadata": {
      "needs_background": "light"
     },
     "output_type": "display_data"
    }
   ],
   "source": [
    "sb.distplot(avg_song_count_df['avg_song_count']);\n",
    "plt.title('avg_song_count is Normal distribution');"
   ]
  },
  {
   "cell_type": "markdown",
   "metadata": {},
   "source": [
    "#### churn 和 用户的会话数量"
   ]
  },
  {
   "cell_type": "code",
   "execution_count": 56,
   "metadata": {},
   "outputs": [],
   "source": [
    "session_per_user_df = df_valid.groupBy('userId','churn')\\\n",
    "    .agg(countDistinct('sessionId').alias('unique_session'))\\\n",
    "    .withColumn('unique_session_sqrt',sqrt('unique_session'))\\\n",
    "    .toPandas()"
   ]
  },
  {
   "cell_type": "code",
   "execution_count": 57,
   "metadata": {
    "scrolled": false
   },
   "outputs": [
    {
     "data": {
      "image/png": "[encoded data removed]",
      "text/plain": [
       "<Figure size 432x288 with 1 Axes>"
      ]
     },
     "metadata": {
      "needs_background": "light"
     },
     "output_type": "display_data"
    }
   ],
   "source": [
    "sb.boxplot('unique_session','churn',data=session_per_user_df, orient=\"h\");\n",
    "plt.title('users with less unique_session are more likely to churn');"
   ]
  },
  {
   "cell_type": "code",
   "execution_count": 58,
   "metadata": {},
   "outputs": [
    {
     "name": "stdout",
     "output_type": "stream",
     "text": [
      "<class 'pandas.core.frame.DataFrame'>\n",
      "RangeIndex: 225 entries, 0 to 224\n",
      "Data columns (total 4 columns):\n",
      "userId                 225 non-null object\n",
      "churn                  225 non-null int32\n",
      "unique_session         225 non-null int64\n",
      "unique_session_sqrt    225 non-null float64\n",
      "dtypes: float64(1), int32(1), int64(1), object(1)\n",
      "memory usage: 6.2+ KB\n"
     ]
    }
   ],
   "source": [
    "session_per_user_df.info()"
   ]
  },
  {
   "cell_type": "code",
   "execution_count": 59,
   "metadata": {
    "scrolled": false
   },
   "outputs": [
    {
     "data": {
      "image/png": "[encoded data removed]",
      "text/plain": [
       "<Figure size 432x288 with 1 Axes>"
      ]
     },
     "metadata": {
      "needs_background": "light"
     },
     "output_type": "display_data"
    }
   ],
   "source": [
    "sb.distplot(session_per_user_df['unique_session']);\n",
    "plt.title('unique_session is Skewed');"
   ]
  },
  {
   "cell_type": "markdown",
   "metadata": {},
   "source": [
    "会话数量是偏态分布的，这里进行开平方处理，处理后近似正态分布。"
   ]
  },
  {
   "cell_type": "code",
   "execution_count": 60,
   "metadata": {},
   "outputs": [
    {
     "data": {
      "image/png": "[encoded data removed]",
      "text/plain": [
       "<Figure size 432x288 with 1 Axes>"
      ]
     },
     "metadata": {
      "needs_background": "light"
     },
     "output_type": "display_data"
    }
   ],
   "source": [
    "sb.distplot(session_per_user_df['unique_session_sqrt']);\n",
    "plt.title('after sqrt unique_session is Normal distribution');"
   ]
  },
  {
   "cell_type": "markdown",
   "metadata": {},
   "source": [
    "#### churn 和 用户将歌曲添加到播放列表的数量"
   ]
  },
  {
   "cell_type": "code",
   "execution_count": 61,
   "metadata": {
    "scrolled": true
   },
   "outputs": [],
   "source": [
    "play_list_df = df_valid.where(df_valid.page=='Add to Playlist')\\\n",
    "    .groupBy('userId','churn').agg(count('userId').alias('num_playlist'))\\\n",
    "    .withColumn('num_playlist_sqrt',sqrt('num_playlist'))\\\n",
    "    .toPandas()"
   ]
  },
  {
   "cell_type": "code",
   "execution_count": 62,
   "metadata": {
    "scrolled": false
   },
   "outputs": [
    {
     "data": {
      "image/png": "[encoded data removed]",
      "text/plain": [
       "<Figure size 432x288 with 1 Axes>"
      ]
     },
     "metadata": {
      "needs_background": "light"
     },
     "output_type": "display_data"
    }
   ],
   "source": [
    "sb.boxplot('num_playlist','churn',data=play_list_df, orient=\"h\");\n",
    "plt.title('users with less num_playlist are more likely to churn');"
   ]
  },
  {
   "cell_type": "code",
   "execution_count": 63,
   "metadata": {
    "scrolled": true
   },
   "outputs": [
    {
     "data": {
      "image/png": "[encoded data removed]",
      "text/plain": [
       "<Figure size 432x288 with 1 Axes>"
      ]
     },
     "metadata": {
      "needs_background": "light"
     },
     "output_type": "display_data"
    }
   ],
   "source": [
    "sb.distplot(play_list_df['num_playlist']);\n",
    "plt.title('num_playlist is Skewed');"
   ]
  },
  {
   "cell_type": "markdown",
   "metadata": {},
   "source": [
    "添加到播放列表的数量是偏态分布的，这里进行开平方处理，处理后近似正态分布。"
   ]
  },
  {
   "cell_type": "code",
   "execution_count": 64,
   "metadata": {
    "scrolled": true
   },
   "outputs": [
    {
     "data": {
      "image/png": "[encoded data removed]",
      "text/plain": [
       "<Figure size 432x288 with 1 Axes>"
      ]
     },
     "metadata": {
      "needs_background": "light"
     },
     "output_type": "display_data"
    }
   ],
   "source": [
    "sb.distplot(play_list_df['num_playlist_sqrt']);"
   ]
  },
  {
   "cell_type": "markdown",
   "metadata": {},
   "source": [
    "#### churn 和 用户添加好友数量"
   ]
  },
  {
   "cell_type": "code",
   "execution_count": 65,
   "metadata": {},
   "outputs": [],
   "source": [
    "add_friend_df = df_valid.where(df_valid.page=='Add Friend')\\\n",
    "    .groupBy('userId','churn').agg(count('userId').alias('num_friend'))\\\n",
    "     .withColumn('num_friend_sqrt',sqrt('num_friend'))\\\n",
    "    .toPandas()"
   ]
  },
  {
   "cell_type": "code",
   "execution_count": 66,
   "metadata": {
    "scrolled": true
   },
   "outputs": [
    {
     "data": {
      "image/png": "[encoded data removed]",
      "text/plain": [
       "<Figure size 432x288 with 1 Axes>"
      ]
     },
     "metadata": {
      "needs_background": "light"
     },
     "output_type": "display_data"
    }
   ],
   "source": [
    "sb.boxplot('num_friend','churn',data=add_friend_df, orient=\"h\");\n",
    "plt.title('users with less num_friend are more likely to churn');"
   ]
  },
  {
   "cell_type": "code",
   "execution_count": 67,
   "metadata": {
    "scrolled": false
   },
   "outputs": [
    {
     "data": {
      "image/png": "[encoded data removed]",
      "text/plain": [
       "<Figure size 432x288 with 1 Axes>"
      ]
     },
     "metadata": {
      "needs_background": "light"
     },
     "output_type": "display_data"
    }
   ],
   "source": [
    "sb.distplot(add_friend_df['num_friend']);\n",
    "plt.title('num_friend is Skewed');"
   ]
  },
  {
   "cell_type": "markdown",
   "metadata": {},
   "source": [
    "好友数量是偏态分布的，这里进行开平方处理，处理后近似正态分布。"
   ]
  },
  {
   "cell_type": "code",
   "execution_count": 68,
   "metadata": {
    "scrolled": false
   },
   "outputs": [
    {
     "data": {
      "image/png": "[encoded data removed]",
      "text/plain": [
       "<Figure size 432x288 with 1 Axes>"
      ]
     },
     "metadata": {
      "needs_background": "light"
     },
     "output_type": "display_data"
    }
   ],
   "source": [
    "sb.distplot(np.sqrt(add_friend_df['num_friend_sqrt']));"
   ]
  },
  {
   "cell_type": "markdown",
   "metadata": {},
   "source": [
    "#### churn 和 没有听歌曲的比率"
   ]
  },
  {
   "cell_type": "code",
   "execution_count": 69,
   "metadata": {},
   "outputs": [],
   "source": [
    "row_count = df_valid.groupBy('userId','churn').agg(count('length').alias('row_count'))\n",
    "length_count = df_valid.groupBy('userId').count()\n",
    "null_ratio_df = row_count.join(length_count,row_count.userId==length_count.userId,'inner')\\\n",
    "    .withColumn('null_ratio',(1-(col('row_count')/col('count'))))\\\n",
    "    .select('churn','null_ratio').toPandas()"
   ]
  },
  {
   "cell_type": "code",
   "execution_count": 70,
   "metadata": {
    "scrolled": true
   },
   "outputs": [
    {
     "data": {
      "image/png": "[encoded data removed]",
      "text/plain": [
       "<Figure size 432x288 with 1 Axes>"
      ]
     },
     "metadata": {
      "needs_background": "light"
     },
     "output_type": "display_data"
    }
   ],
   "source": [
    "sb.boxplot('null_ratio','churn', data=null_ratio_df, orient=\"h\");\n",
    "plt.title('users with higher null_ratio are more likely to churn');"
   ]
  },
  {
   "cell_type": "code",
   "execution_count": 71,
   "metadata": {
    "scrolled": true
   },
   "outputs": [
    {
     "data": {
      "image/png": "[encoded data removed]",
      "text/plain": [
       "<Figure size 432x288 with 1 Axes>"
      ]
     },
     "metadata": {
      "needs_background": "light"
     },
     "output_type": "display_data"
    }
   ],
   "source": [
    "sb.distplot(null_ratio_df['null_ratio']);"
   ]
  },
  {
   "cell_type": "markdown",
   "metadata": {},
   "source": [
    "#### churn 和 最大itemInSession"
   ]
  },
  {
   "cell_type": "markdown",
   "metadata": {},
   "source": [
    "itemInSession 与 sessionId有密切关系，itemInSession表示每个sessionId中有多少个item，通过观察某个sessionId的数据，发现itemInSession是递增的，这应该是统计的日志写入那一时刻session中的item数量，单看此列没有意义，这里计算会话中item的实际数量的最大值，观察该最大值与churn的关系。"
   ]
  },
  {
   "cell_type": "code",
   "execution_count": 72,
   "metadata": {
    "scrolled": true
   },
   "outputs": [],
   "source": [
    "max_itemInSession_df = df_valid\\\n",
    "    .groupBy('churn','userId','sessionId')\\\n",
    "    .agg(max('itemInSession').alias('totalItemInSession'))\\\n",
    "    .groupBy('churn','userId')\\\n",
    "    .agg(max('totalItemInSession').alias('maxItemInSession'))\\\n",
    "    .withColumn('maxItemInSession_sqrt',sqrt('maxItemInSession'))\\\n",
    "    .toPandas()"
   ]
  },
  {
   "cell_type": "code",
   "execution_count": 73,
   "metadata": {
    "scrolled": false
   },
   "outputs": [
    {
     "data": {
      "image/png": "[encoded data removed]",
      "text/plain": [
       "<Figure size 432x288 with 1 Axes>"
      ]
     },
     "metadata": {
      "needs_background": "light"
     },
     "output_type": "display_data"
    }
   ],
   "source": [
    "sb.boxplot('maxItemInSession','churn',data=max_itemInSession_df, orient=\"h\");\n",
    "plt.title('users with less maxItemInSession are more likely to churn');"
   ]
  },
  {
   "cell_type": "code",
   "execution_count": 74,
   "metadata": {
    "scrolled": false
   },
   "outputs": [
    {
     "data": {
      "image/png": "[encoded data removed]",
      "text/plain": [
       "<Figure size 432x288 with 1 Axes>"
      ]
     },
     "metadata": {
      "needs_background": "light"
     },
     "output_type": "display_data"
    }
   ],
   "source": [
    "sb.distplot(max_itemInSession_df['maxItemInSession']);\n",
    "plt.title('maxItemInSession is Skewed');"
   ]
  },
  {
   "cell_type": "markdown",
   "metadata": {},
   "source": [
    "该特征是偏态分布的，这里进行开平方处理，处理后近似正态分布。"
   ]
  },
  {
   "cell_type": "code",
   "execution_count": 75,
   "metadata": {},
   "outputs": [
    {
     "data": {
      "image/png": "[encoded data removed]",
      "text/plain": [
       "<Figure size 432x288 with 1 Axes>"
      ]
     },
     "metadata": {
      "needs_background": "light"
     },
     "output_type": "display_data"
    }
   ],
   "source": [
    "sb.distplot(max_itemInSession_df['maxItemInSession_sqrt']);"
   ]
  },
  {
   "cell_type": "markdown",
   "metadata": {},
   "source": [
    "## 特征工程\n",
    "选取了探索过的9个特征作为算法的输入，将特征和标签保存在df_features中"
   ]
  },
  {
   "cell_type": "code",
   "execution_count": 76,
   "metadata": {},
   "outputs": [],
   "source": [
    "# 用户的level\n",
    "f1 = df_valid.select('userId','level').dropDuplicates(subset=['userId'])"
   ]
  },
  {
   "cell_type": "code",
   "execution_count": 77,
   "metadata": {
    "scrolled": true
   },
   "outputs": [],
   "source": [
    "# 用户的性别\n",
    "f2 = df_valid.select('userId','gender').dropDuplicates(subset=['userId'])"
   ]
  },
  {
   "cell_type": "code",
   "execution_count": 78,
   "metadata": {},
   "outputs": [],
   "source": [
    "# 用户注册时长\n",
    "f3 = df_valid.select(((col('ts') - col('registration'))/1000/60/60).alias('hours_since_reg'),'userId')\\\n",
    "    .groupBy('userId').agg(max('hours_since_reg'))\\\n",
    "    .withColumnRenamed('max(hours_since_reg)','hours_since_reg')"
   ]
  },
  {
   "cell_type": "code",
   "execution_count": 79,
   "metadata": {
    "scrolled": true
   },
   "outputs": [],
   "source": [
    "# 用户所有会话听的歌曲数量均值\n",
    "f4 = avg_song_count_df = df_valid.where(df_valid['song'] != '')\\\n",
    "    .groupBy('userId','sessionId')\\\n",
    "    .agg(count('song').alias('song_count'))\\\n",
    "    .groupBy('userId')\\\n",
    "    .agg(avg('song_count').alias('avg_song_count'))"
   ]
  },
  {
   "cell_type": "code",
   "execution_count": 80,
   "metadata": {},
   "outputs": [],
   "source": [
    "# 用户的会话数量\n",
    "f5 = df_valid.groupBy('userId')\\\n",
    "    .agg(countDistinct('sessionId').alias('unique_session_num'))\\\n",
    "    .withColumn('unique_session_num_sqrt',sqrt('unique_session_num'))"
   ]
  },
  {
   "cell_type": "code",
   "execution_count": 81,
   "metadata": {},
   "outputs": [],
   "source": [
    "# 用户将歌曲添加到播放列表的数量\n",
    "f6 = df_valid.where(df_valid.page=='Add to Playlist')\\\n",
    "    .groupBy('userId').agg(count('page').alias('add_playlist_num'))\\\n",
    "    .withColumn('num_playlist_sqrt',sqrt('add_playlist_num'))"
   ]
  },
  {
   "cell_type": "code",
   "execution_count": 82,
   "metadata": {
    "scrolled": true
   },
   "outputs": [],
   "source": [
    "# 用户添加好友数量\n",
    "f7 = df_valid.where(df_valid.page=='Add Friend')\\\n",
    "    .groupBy('userId').agg(count('page').alias('add_friend_num'))\\\n",
    "    .withColumn('add_friend_num_sqrt',sqrt('add_friend_num'))"
   ]
  },
  {
   "cell_type": "code",
   "execution_count": 83,
   "metadata": {},
   "outputs": [],
   "source": [
    "# 没有听歌曲的比率\n",
    "row_count = df_valid.groupBy('userId').agg(count('length').alias('row_count'))\n",
    "length_count = df_valid.groupBy('userId').count()\n",
    "f8 = row_count.join(length_count, 'userId','inner')\\\n",
    "    .withColumn('null_ratio',(1-(col('row_count')/col('count'))))\\\n",
    "    .select('userId','null_ratio')"
   ]
  },
  {
   "cell_type": "code",
   "execution_count": 84,
   "metadata": {},
   "outputs": [],
   "source": [
    "# 最大itemInSession\n",
    "f9 = df_valid\\\n",
    "    .groupBy('userId','sessionId')\\\n",
    "    .agg(max('itemInSession').alias('totalItemInSession'))\\\n",
    "    .groupBy('userId').agg(max('totalItemInSession').alias('maxItemInSession'))\\\n",
    "    .withColumn('maxItemInSession_sqrt',sqrt('maxItemInSession'))"
   ]
  },
  {
   "cell_type": "code",
   "execution_count": 85,
   "metadata": {},
   "outputs": [],
   "source": [
    "label = df_valid.select('userId',col('churn').alias('label')).dropDuplicates(subset=['userId'])"
   ]
  },
  {
   "cell_type": "code",
   "execution_count": 86,
   "metadata": {
    "scrolled": true
   },
   "outputs": [
    {
     "name": "stdout",
     "output_type": "stream",
     "text": [
      "-RECORD 0-------------------------------------\n",
      " level                   | free               \n",
      " gender                  | F                  \n",
      " hours_since_reg         | 1335.447777777778  \n",
      " avg_song_count          | 39.285714285714285 \n",
      " unique_session_num      | 7                  \n",
      " unique_session_num_sqrt | 2.6457513110645907 \n",
      " add_playlist_num        | 7                  \n",
      " num_playlist_sqrt       | 2.6457513110645907 \n",
      " add_friend_num          | 4                  \n",
      " add_friend_num_sqrt     | 2.0                \n",
      " null_ratio              | 0.2782152230971129 \n",
      " maxItemInSession        | 111                \n",
      " maxItemInSession_sqrt   | 10.535653752852738 \n",
      " label                   | 0                  \n",
      "only showing top 1 row\n",
      "\n",
      "样本数量：225\n"
     ]
    }
   ],
   "source": [
    "df_features = f1.join(f2,'userId','outer')\\\n",
    "    .join(f3,'userId','outer')\\\n",
    "    .join(f4,'userId','outer')\\\n",
    "    .join(f5,'userId','outer')\\\n",
    "    .join(f6,'userId','outer')\\\n",
    "    .join(f7,'userId','outer')\\\n",
    "    .join(f8,'userId','outer')\\\n",
    "    .join(f9,'userId','outer')\\\n",
    "    .join(label,'userId','outer')\\\n",
    "    .fillna(0).drop('userId').persist()\n",
    "df_features.show(n=1,vertical=True)\n",
    "print('样本数量：{}'.format(df_features.count()))"
   ]
  },
  {
   "cell_type": "markdown",
   "metadata": {},
   "source": [
    "# 建模\n",
    "此部分将数据集分成训练集、测试集和验证集，使用F1 score 评估了四个算法：逻辑回归，GBT，支持向量机，随机森林。使用k折交叉验证选出表现最好的算法，然后使用网格搜索调整超参数训练出在训练集上表现最好的模型，最后用该模型在测试集上进行验证。"
   ]
  },
  {
   "cell_type": "markdown",
   "metadata": {},
   "source": [
    "### 评估指标\n",
    "由于label是偏态的，且阳性(churn=1)占少数，使用F1 score作为评估指标"
   ]
  },
  {
   "cell_type": "markdown",
   "metadata": {},
   "source": [
    "### 划分数据集\n",
    "60%作为训练集，20%作为验证集，20%作为测试集"
   ]
  },
  {
   "cell_type": "code",
   "execution_count": 87,
   "metadata": {},
   "outputs": [],
   "source": [
    "train, rest = df_features.randomSplit([0.6, 0.4], seed=42)\n",
    "test, validation = rest.randomSplit([0.5, 0.5], seed=42)"
   ]
  },
  {
   "cell_type": "markdown",
   "metadata": {},
   "source": [
    "### 基准模型\n",
    "将训练集中的数据全部预测为0，或者全部预测为1，作为基准模型"
   ]
  },
  {
   "cell_type": "code",
   "execution_count": 88,
   "metadata": {},
   "outputs": [],
   "source": [
    "evaluator = MulticlassClassificationEvaluator()"
   ]
  },
  {
   "cell_type": "code",
   "execution_count": 89,
   "metadata": {
    "scrolled": true
   },
   "outputs": [
    {
     "name": "stdout",
     "output_type": "stream",
     "text": [
      "Accuracy: 0.2\n",
      "F1 Score:0.06666666666666667\n"
     ]
    }
   ],
   "source": [
    "results_1 = test.withColumn('prediction', lit(1.0))\n",
    "print('Accuracy: {}'.format(evaluator.evaluate(results_1, {evaluator.metricName: \"accuracy\"})))\n",
    "print('F1 Score:{}'.format(evaluator.evaluate(results_1, {evaluator.metricName: \"f1\"})))"
   ]
  },
  {
   "cell_type": "code",
   "execution_count": 90,
   "metadata": {
    "scrolled": true
   },
   "outputs": [
    {
     "name": "stdout",
     "output_type": "stream",
     "text": [
      "Accuracy: 0.8\n",
      "F1 Score:0.7111111111111111\n"
     ]
    }
   ],
   "source": [
    "results_0 = test.withColumn('prediction', lit(0.0))\n",
    "print('Accuracy: {}'.format(evaluator.evaluate(results_0, {evaluator.metricName: \"accuracy\"})))\n",
    "print('F1 Score:{}'.format(evaluator.evaluate(results_0, {evaluator.metricName: \"f1\"})))"
   ]
  },
  {
   "cell_type": "markdown",
   "metadata": {},
   "source": [
    "预测全部都是0的基准模型在测试集上也有较好表现"
   ]
  },
  {
   "cell_type": "markdown",
   "metadata": {},
   "source": [
    "### 模型选择\n",
    "使用了pipeline (pipeline包含特征预处理)。使用交叉验证评估了四个模型，选择在验证集上表现最好的模型。"
   ]
  },
  {
   "cell_type": "code",
   "execution_count": 91,
   "metadata": {},
   "outputs": [],
   "source": [
    "# 定义使用的feature列表\n",
    "features = ['avg_song_count','unique_session_num','add_playlist_num','add_friend_num','maxItemInSession',\n",
    "            'null_ratio','hours_since_reg','gender_index','level_index']\n",
    "features_sqrt = ['avg_song_count','unique_session_num_sqrt','num_playlist_sqrt','add_friend_num_sqrt',\n",
    "            'maxItemInSession_sqrt','null_ratio','hours_since_reg','gender_index','level_index']\n",
    "\n",
    "# 使用StringIndexer处理分类变量\n",
    "indexer_gender = StringIndexer(inputCol=\"gender\", outputCol=\"gender_index\")\n",
    "indexer_level = StringIndexer(inputCol=\"level\", outputCol=\"level_index\")\n",
    "# 创建特征向量\n",
    "assembler = VectorAssembler(inputCols=features, outputCol=\"NumFeatures\")\n",
    "assembler_sqrt = VectorAssembler(inputCols=features_sqrt, outputCol=\"NumFeatures_sqrt\")\n",
    "# 使用StandardScaler缩放特征\n",
    "scaler_ss = StandardScaler(inputCol=\"NumFeatures\", outputCol=\"ScaledNumFeatures_ss\", withStd=True, withMean=False)\n",
    "scaler_ss_sqrt = StandardScaler(inputCol=\"NumFeatures_sqrt\", outputCol=\"ScaledNumFeatures_ss_sqrt\", withStd=True, withMean=False)\n",
    "# 定义评估器\n",
    "evaluator = MulticlassClassificationEvaluator()\n",
    "# 定义网格搜索参数\n",
    "paramGrid = ParamGridBuilder().build()"
   ]
  },
  {
   "cell_type": "markdown",
   "metadata": {},
   "source": [
    "#### LogisticRegression"
   ]
  },
  {
   "cell_type": "code",
   "execution_count": 92,
   "metadata": {},
   "outputs": [],
   "source": [
    "balancing_ratio = train.filter(train['label']==0).count()/train.count()\n",
    "train = train.withColumn(\"classWeights\", when(train.label == 1,balancing_ratio).otherwise(1-balancing_ratio))"
   ]
  },
  {
   "cell_type": "code",
   "execution_count": 93,
   "metadata": {},
   "outputs": [
    {
     "name": "stdout",
     "output_type": "stream",
     "text": [
      "time used: 20.320687294006348\n"
     ]
    }
   ],
   "source": [
    "# 初始化逻辑回归\n",
    "lr = LogisticRegression(maxIter=10,featuresCol='ScaledNumFeatures_ss', labelCol='label', weightCol='classWeights')\n",
    "# 定义逻辑回归的pipeline\n",
    "pipeline_lr = Pipeline(stages=[indexer_gender, indexer_level, assembler, scaler_ss, lr])\n",
    "s = time()\n",
    "Model_lr = pipeline_lr.fit(train)\n",
    "# 使用逻辑回归pipeline拟合训练数据\n",
    "e = time()\n",
    "print('time used:',e-s)"
   ]
  },
  {
   "cell_type": "code",
   "execution_count": 94,
   "metadata": {
    "scrolled": false
   },
   "outputs": [
    {
     "name": "stdout",
     "output_type": "stream",
     "text": [
      "f1 score: 0.6864612511671336\n",
      "accuracy: 0.6617647058823529\n"
     ]
    }
   ],
   "source": [
    "lr_result = Model_lr.transform(validation)\n",
    "print('f1 score:',evaluator.evaluate(lr_result, {evaluator.metricName: \"f1\"}))\n",
    "print('accuracy:',evaluator.evaluate(lr_result, {evaluator.metricName: \"accuracy\"}))"
   ]
  },
  {
   "cell_type": "markdown",
   "metadata": {},
   "source": [
    "由于特征中有偏态数据，偏态特征违反了逻辑回归的假设，这里逻辑回归使用了开平方后的特征又拟合了一遍，accuracy和f1 score有所提升"
   ]
  },
  {
   "cell_type": "code",
   "execution_count": 95,
   "metadata": {
    "scrolled": false
   },
   "outputs": [
    {
     "name": "stdout",
     "output_type": "stream",
     "text": [
      "time used: 19.47185516357422\n"
     ]
    }
   ],
   "source": [
    "# 初始化逻辑回归\n",
    "lr_sqrt = LogisticRegression(maxIter=10,featuresCol='ScaledNumFeatures_ss_sqrt', labelCol='label', weightCol='classWeights')\n",
    "# 定义逻辑回归的pipeline\n",
    "pipeline_lr_sqrt = Pipeline(stages=[indexer_gender, indexer_level, assembler_sqrt, scaler_ss_sqrt, lr_sqrt])\n",
    "s = time()\n",
    "Model_lr_sqrt = pipeline_lr_sqrt.fit(train)\n",
    "# 使用逻辑回归pipeline拟合训练数据\n",
    "e = time()\n",
    "print('time used:',e-s)"
   ]
  },
  {
   "cell_type": "code",
   "execution_count": 96,
   "metadata": {
    "scrolled": false
   },
   "outputs": [
    {
     "name": "stdout",
     "output_type": "stream",
     "text": [
      "f1 score: 0.7380200860832138\n",
      "accuracy: 0.7205882352941176\n"
     ]
    }
   ],
   "source": [
    "lr_result_sqrt = Model_lr_sqrt.transform(validation)\n",
    "print('f1 score:',evaluator.evaluate(lr_result_sqrt, {evaluator.metricName: \"f1\"}))\n",
    "print('accuracy:',evaluator.evaluate(lr_result_sqrt, {evaluator.metricName: \"accuracy\"}))"
   ]
  },
  {
   "cell_type": "markdown",
   "metadata": {},
   "source": [
    "#### GBDT"
   ]
  },
  {
   "cell_type": "code",
   "execution_count": 97,
   "metadata": {
    "scrolled": true
   },
   "outputs": [
    {
     "name": "stdout",
     "output_type": "stream",
     "text": [
      "time used: 87.31449222564697\n"
     ]
    }
   ],
   "source": [
    "# 初始化GBT\n",
    "gbt = GBTClassifier(maxIter=10,featuresCol='ScaledNumFeatures_ss',labelCol='label', seed=42)\n",
    "# 定义GBT的pipeline\n",
    "pipeline_gbt = Pipeline(stages=[indexer_gender, indexer_level, assembler, scaler_ss, gbt])\n",
    "s = time()\n",
    "# 使用GBT的ipeline拟合训练数据\n",
    "Model_gbt = pipeline_gbt.fit(train)\n",
    "e = time()\n",
    "print('time used:',e-s)"
   ]
  },
  {
   "cell_type": "code",
   "execution_count": 98,
   "metadata": {
    "scrolled": true
   },
   "outputs": [
    {
     "name": "stdout",
     "output_type": "stream",
     "text": [
      "f1 score: 0.7116493656286045\n",
      "accuracy: 0.7058823529411765\n"
     ]
    }
   ],
   "source": [
    "gbt_result = Model_gbt.transform(validation)\n",
    "print('f1 score:',evaluator.evaluate(gbt_result, {evaluator.metricName: \"f1\"}))\n",
    "print('accuracy:',evaluator.evaluate(gbt_result, {evaluator.metricName: \"accuracy\"}))"
   ]
  },
  {
   "cell_type": "markdown",
   "metadata": {},
   "source": [
    "#### Support Vector Machine"
   ]
  },
  {
   "cell_type": "code",
   "execution_count": 99,
   "metadata": {
    "scrolled": false
   },
   "outputs": [
    {
     "name": "stdout",
     "output_type": "stream",
     "text": [
      "time used: 41.38533282279968\n"
     ]
    }
   ],
   "source": [
    "# 初始化支持向量机\n",
    "svm = LinearSVC(maxIter=10,featuresCol='ScaledNumFeatures_ss',labelCol='label' ,weightCol='classWeights')\n",
    "# 定义SVM的pipeline\n",
    "pipeline_svm = Pipeline(stages=[indexer_gender, indexer_level, assembler, scaler_ss, svm])\n",
    "s = time()\n",
    "# 使用SVM的pipeline拟合训练数据\n",
    "Model_svm = pipeline_svm.fit(train)\n",
    "e = time()\n",
    "print('time used:',e-s)"
   ]
  },
  {
   "cell_type": "code",
   "execution_count": 100,
   "metadata": {
    "scrolled": false
   },
   "outputs": [
    {
     "name": "stdout",
     "output_type": "stream",
     "text": [
      "f1 score: 0.6448500348756103\n",
      "accuracy: 0.6176470588235294\n"
     ]
    }
   ],
   "source": [
    "svm_result = Model_svm.transform(validation)\n",
    "print('f1 score:',evaluator.evaluate(svm_result, {evaluator.metricName: \"f1\"}))\n",
    "print('accuracy:',evaluator.evaluate(svm_result, {evaluator.metricName: \"accuracy\"}))"
   ]
  },
  {
   "cell_type": "markdown",
   "metadata": {},
   "source": [
    "#### Random Forest"
   ]
  },
  {
   "cell_type": "code",
   "execution_count": 101,
   "metadata": {
    "scrolled": true
   },
   "outputs": [
    {
     "name": "stdout",
     "output_type": "stream",
     "text": [
      "time used: 25.392884016036987\n"
     ]
    }
   ],
   "source": [
    "# 初始化随机森林\n",
    "rf = RandomForestClassifier(featuresCol='ScaledNumFeatures_ss',labelCol='label', seed=42)\n",
    "# 定义随机森林的pipeline\n",
    "pipeline_rf = Pipeline(stages=[indexer_gender, indexer_level, assembler, scaler_ss, rf])\n",
    "s = time()\n",
    "# 使用随机森林pipeline拟合训练数据\n",
    "Model_rf = pipeline_rf.fit(train)\n",
    "e = time()\n",
    "print('time used:',e-s)"
   ]
  },
  {
   "cell_type": "code",
   "execution_count": 102,
   "metadata": {
    "scrolled": false
   },
   "outputs": [
    {
     "name": "stdout",
     "output_type": "stream",
     "text": [
      "f1: 0.8141923436041085\n",
      "accuracy: 0.8235294117647058\n"
     ]
    }
   ],
   "source": [
    "rf_result = Model_rf.transform(validation)\n",
    "print('f1:',evaluator.evaluate(rf_result, {evaluator.metricName: \"f1\"}))\n",
    "print('accuracy:',evaluator.evaluate(rf_result, {evaluator.metricName: \"accuracy\"}))"
   ]
  },
  {
   "cell_type": "markdown",
   "metadata": {},
   "source": [
    "默认参数的模型在验证集上的表现：\n",
    "\n",
    "逻辑回归：\n",
    "- f1 score: 0.7380200860832138\n",
    "- accuracy: 0.7205882352941176\n",
    "\n",
    "GBT：\n",
    "- f1 score: 0.7116493656286045\n",
    "- accuracy: 0.7058823529411765\n",
    "\n",
    "支持向量机：\n",
    "- f1 score: 0.6828664199954693\n",
    "- accuracy: 0.6617647058823529\n",
    "\n",
    "随机森林：\n",
    "\n",
    "- f1: 0.8141923436041085\n",
    "- accuracy: 0.8235294117647058\n",
    "\n",
    "**可以看到随机森林相比其他三个有更高的F1得分，所以下一步用随机森林进行参数调整。**"
   ]
  },
  {
   "cell_type": "markdown",
   "metadata": {},
   "source": [
    "### 调整模型参数\n",
    "#### 在随机森林上算法上使用网格搜索进行超参数选择"
   ]
  },
  {
   "cell_type": "code",
   "execution_count": 103,
   "metadata": {
    "scrolled": true
   },
   "outputs": [
    {
     "name": "stdout",
     "output_type": "stream",
     "text": [
      "time used: 550.6245579719543\n",
      "cv average f1_score [0.7084372180957107, 0.7047462800307814, 0.7008741053176923, 0.7437405000567923, 0.7204292598562235, 0.7176229161472221, 0.7796508762658906, 0.7924075569793241, 0.7951241083459011]\n"
     ]
    }
   ],
   "source": [
    "rf = RandomForestClassifier(featuresCol='ScaledNumFeatures_ss',labelCol='label', seed=42)\n",
    "paramGrid_tune = ParamGridBuilder() \\\n",
    "    .addGrid(rf.numTrees, [4,6,8]) \\\n",
    "    .addGrid(rf.maxDepth, [4,6,8]) \\\n",
    "    .build()\n",
    "evaluator = MulticlassClassificationEvaluator()\n",
    "pipeline_rf = Pipeline(stages=[indexer_gender, indexer_level, assembler, scaler_ss, rf])\n",
    "crossval = CrossValidator(estimator=pipeline_rf,\n",
    "                          estimatorParamMaps=paramGrid_tune,\n",
    "                          evaluator=evaluator,\n",
    "                          numFolds=3)\n",
    "s = time()\n",
    "cvModel_rf_tune = crossval.fit(train)\n",
    "e = time()\n",
    "print('time used:',e-s)\n",
    "print('cv average f1_score',cvModel_rf_tune.avgMetrics)"
   ]
  },
  {
   "cell_type": "code",
   "execution_count": 104,
   "metadata": {
    "scrolled": true
   },
   "outputs": [
    {
     "name": "stdout",
     "output_type": "stream",
     "text": [
      "f1: 0.784\n",
      "accuracy: 0.8\n"
     ]
    }
   ],
   "source": [
    "best_rf_result_tune = cvModel_rf_tune.bestModel.transform(test)\n",
    "best_rf_result_tune_df = best_rf_result_tune.toPandas()\n",
    "print('f1:',evaluator.evaluate(best_rf_result_tune, {evaluator.metricName: \"f1\"}))\n",
    "print('accuracy:',evaluator.evaluate(best_rf_result_tune, {evaluator.metricName: \"accuracy\"}))"
   ]
  },
  {
   "cell_type": "code",
   "execution_count": 105,
   "metadata": {
    "scrolled": false
   },
   "outputs": [
    {
     "data": {
      "text/plain": [
       "array([[ 1,  2],\n",
       "       [ 1, 11]])"
      ]
     },
     "execution_count": 105,
     "metadata": {},
     "output_type": "execute_result"
    }
   ],
   "source": [
    "metrics.confusion_matrix(best_rf_result_tune_df['label'], best_rf_result_tune_df['prediction'], labels=[1,0])"
   ]
  },
  {
   "cell_type": "markdown",
   "metadata": {},
   "source": [
    "调整后的模型在测试机上的F1 score是0.784，accuracy是0.8，在测试集的15个样本中，有2个真实是1被预测为0，有1个真实是0被预测为1。最终结果的F1 socre比基准模型(F1 score:0.71)有提高，但是提高并不多。"
   ]
  },
  {
   "cell_type": "markdown",
   "metadata": {},
   "source": [
    "#### 调整threshold：\n",
    "在训练集上选择(tpr-fpr)值最大的阈值，将该阈值作为测试集的分界"
   ]
  },
  {
   "cell_type": "code",
   "execution_count": 106,
   "metadata": {},
   "outputs": [
    {
     "data": {
      "image/png": "[encoded data removed]",
      "text/plain": [
       "<Figure size 432x288 with 1 Axes>"
      ]
     },
     "metadata": {
      "needs_background": "light"
     },
     "output_type": "display_data"
    }
   ],
   "source": [
    "# 使用训练好的模型预测训练数据\n",
    "best_rf_result_tune_train = cvModel_rf_tune.bestModel.transform(train)\n",
    "best_rf_result_tune_train_df = best_rf_result_tune_train.toPandas()\n",
    "# 绘制ROC曲线\n",
    "fpr, tpr, thresholds = metrics.roc_curve(best_rf_result_tune_train_df['label'],\n",
    "                                         best_rf_result_tune_train_df['probability'].map(lambda x:x[1]),\n",
    "                                         pos_label=1)\n",
    "plt.scatter(fpr,tpr);\n",
    "plt.xlabel('fpr');\n",
    "plt.ylabel('tpr');\n",
    "plt.title('ROC');"
   ]
  },
  {
   "cell_type": "code",
   "execution_count": 107,
   "metadata": {},
   "outputs": [],
   "source": [
    "# 将tpr-fpr最大的阈值应用到测试集\n",
    "threshold = thresholds[np.argmax(tpr - fpr)]\n",
    "prob = best_rf_result_tune_df['probability'].map(lambda x:x[1])\n",
    "best_rf_result_tune_df['prediction_'] = (prob>=threshold).map(lambda x:1 if x else 0)"
   ]
  },
  {
   "cell_type": "code",
   "execution_count": 108,
   "metadata": {
    "scrolled": false
   },
   "outputs": [
    {
     "name": "stdout",
     "output_type": "stream",
     "text": [
      "选择阈值前f1得分： 0.7839999999999999\n",
      "选择阈值后f1得分 0.7333333333333333\n"
     ]
    }
   ],
   "source": [
    "print('选择阈值前f1得分：',metrics.f1_score(best_rf_result_tune_df['label'],best_rf_result_tune_df['prediction'],\n",
    "                                    average=\"weighted\"))\n",
    "print('选择阈值后f1得分',metrics.f1_score(best_rf_result_tune_df['label'],best_rf_result_tune_df['prediction_'],\n",
    "                                   average=\"weighted\"))"
   ]
  },
  {
   "cell_type": "markdown",
   "metadata": {},
   "source": [
    "使用选择选择的阈值，测试集的f1得分反而下降了。接下来查看不同threshold下的precision和recall"
   ]
  },
  {
   "cell_type": "code",
   "execution_count": 109,
   "metadata": {
    "scrolled": false
   },
   "outputs": [
    {
     "data": {
      "image/png": "[encoded data removed]",
      "text/plain": [
       "<Figure size 432x288 with 1 Axes>"
      ]
     },
     "metadata": {
      "needs_background": "light"
     },
     "output_type": "display_data"
    }
   ],
   "source": [
    "# 绘制precision,recall曲线\n",
    "precision, recall, thresholds = metrics.precision_recall_curve(best_rf_result_tune_train_df['label'],\n",
    "                                         best_rf_result_tune_train_df['probability'].map(lambda x:x[1]),\n",
    "                                         pos_label=1)\n",
    "plt.scatter(recall,precision);\n",
    "plt.xlabel('recall');\n",
    "plt.ylabel('precision');"
   ]
  },
  {
   "cell_type": "markdown",
   "metadata": {},
   "source": [
    "如果错过流失的用户比挽留本来不会流失的用户问题严重，可以适当牺牲一些Precision，换取高的recall"
   ]
  },
  {
   "cell_type": "markdown",
   "metadata": {},
   "source": [
    "## 特征重要性"
   ]
  },
  {
   "cell_type": "code",
   "execution_count": 110,
   "metadata": {
    "scrolled": true
   },
   "outputs": [
    {
     "data": {
      "image/png": "[encoded data removed]",
      "text/plain": [
       "<Figure size 432x288 with 1 Axes>"
      ]
     },
     "metadata": {
      "needs_background": "light"
     },
     "output_type": "display_data"
    }
   ],
   "source": [
    "best_model = cvModel_rf_tune.bestModel.stages[-1]\n",
    "importance = best_model.featureImportances.values\n",
    "feature_index = best_model.featureImportances.indices\n",
    "features = pd.Series(['avg_song_count','unique_session_num','add_playlist_num','add_friend_num','maxItemInSession',\n",
    "            'null_ratio','hours_since_reg','gender_index','level_index'])\n",
    "plt.barh(list(features[feature_index]) ,importance);\n",
    "plt.title('RandomForest feature importance ')\n",
    "plt.xlabel('importance');"
   ]
  },
  {
   "cell_type": "markdown",
   "metadata": {},
   "source": [
    "随机森林的feature_importance显示hour_since_reg对于用户是否会churn有着很大的影响，这是合理的，因为注册的时间长的用户代表用户在很长时间内都没有注销其账号，可能是经常使用，这样的用户更不容易注销账号，但也可能是很久以前注册过一直没用，也没有注销。"
   ]
  },
  {
   "cell_type": "markdown",
   "metadata": {},
   "source": [
    "## 结论"
   ]
  },
  {
   "cell_type": "markdown",
   "metadata": {},
   "source": [
    "这个notebook在128M的数据上训练了用于预测用户是否会churn的模型，评估了四个模型：逻辑回归，GBT，支持向量机，随机森林，通过对比F1 socre选择了随机森林并在其上调整参数，使用最优模型在测试集上得到的F1 score 是0.784，准确率是0.8，但是测试集只有15个样本，所以在测试集上的到的得分有较大偏差。最后列出随机森林给出的对于用户是否会churn的最重要特征是用户注册了多长时间(hour_since_reg)。此notebook使用的是数据的子集，这样才能在单台机器上运行，如果用完整数据(12G)，对于现有机器性能已经是大数据，需要在集群环境运行。数据有只225个用户样本，所以模型实际意义并不大，如果有更多数据，可以将本notebook拓展到spark环境，将对模型表现有很大程度的提升。"
   ]
  },
  {
   "cell_type": "markdown",
   "metadata": {},
   "source": [
    "### 难点"
   ]
  },
  {
   "cell_type": "markdown",
   "metadata": {},
   "source": [
    "我通过可视化的方式选择了特征，但是如何判断特征是否真对于预测label有用，并没有指标作为界定。[这篇文章](https://machinelearningmastery.com/feature-selection-with-real-and-categorical-data/)提到，特征选择主要有两种方法：filter method 和 Wrapper methods。filter method方法使用统计技术评估每个输入变量和目标变量之间的关系，然后排序算法过滤那些有用性较低的特征，对于分类-数据类型的数据，可以使用F-检验，对于分类-分类数据，可以使用卡方检验。Wrapper methods通常通过直接测试特征对模型性能的影响来选择特征。另外一个难点是标签和某些特征是偏态的，偏态分布的尾部可以作为异常值，[异常值不利于模型的表现](https://discuss.analyticsvidhya.com/t/effects-of-outliers-on-regression-model/2403)，虽然tree-based模型对异常值有较好的鲁棒性，但也限制了我们的选择。如果标签的偏态的，模型将会大量在多数标签上训练，较少在少数标签上训练，这样模型可能会不容易识别出较少标签的分类。"
   ]
  },
  {
   "cell_type": "markdown",
   "metadata": {},
   "source": [
    "### 可以改进的地方"
   ]
  },
  {
   "cell_type": "markdown",
   "metadata": {},
   "source": [
    "我提取了9个特征用来预测用户的流失，可能还有更好的特征，如果加以尝试相信会提高模型的得分。另外我对数据集的划分只做了一次，这一次划分的数据得到模型并不一定是最好的模型，可以对数据集尝试多划分几次，然后选择得分最高的模型。"
   ]
  },
  {
   "cell_type": "code",
   "execution_count": null,
   "metadata": {},
   "outputs": [],
   "source": []
  }
 ],
 "metadata": {
  "kernelspec": {
   "display_name": "Python 3",
   "language": "python",
   "name": "python3"
  },
  "language_info": {
   "codemirror_mode": {
    "name": "ipython",
    "version": 3
   },
   "file_extension": ".py",
   "mimetype": "text/x-python",
   "name": "python",
   "nbconvert_exporter": "python",
   "pygments_lexer": "ipython3",
   "version": "3.6.8"
  }
 },
 "nbformat": 4,
 "nbformat_minor": 2
}
